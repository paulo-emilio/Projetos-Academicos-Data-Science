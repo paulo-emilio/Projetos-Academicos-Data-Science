{
 "cells": [
  {
   "cell_type": "markdown",
   "metadata": {
    "colab_type": "text",
    "id": "WvMflodMjQKe"
   },
   "source": [
    "# <font color=green size=10>Pesquisa Nacional por Amostra de Domicílios - 2015</font>\n",
    "***"
   ]
  },
  {
   "cell_type": "markdown",
   "metadata": {},
   "source": [
    "A Pesquisa Nacional por Amostra de Domicílios - PNAD 2015 é uma importante fonte de informações sobre a população brasileira, abrangendo uma ampla gama de características socioeconômicas, como renda, educação, trabalho, idade, entre outras. Por meio dessa pesquisa, o Instituto Brasileiro de Geografia e Estatística (IBGE) coleta dados essenciais para a formulação e avaliação de políticas públicas destinadas ao desenvolvimento socioeconômico do país.\n",
    "\n",
    "Este projeto utiliza o conjunto de dados da PNAD 2015 para explorar informações relevantes e responder a questões específicas, destacando a análise de renda, a probabilidade de selecionar grupos com determinada composição e a estimativa do tamanho da amostra necessário para atingir diferentes níveis de confiança. Além disso, é abordada a questão do custo envolvido na realização de uma pesquisa de campo para avaliar o rendimento dos chefes de domicílio no Brasil, considerando restrições de tempo, orçamento e margem de erro."
   ]
  },
  {
   "cell_type": "markdown",
   "metadata": {
    "colab_type": "text",
    "id": "cVgsZ_E3jQKg"
   },
   "source": [
    "## <font color=green>DATASET DO PROJETO</font>\n",
    "***"
   ]
  },
  {
   "cell_type": "markdown",
   "metadata": {
    "colab_type": "text",
    "id": "U6V7br1RjQKi"
   },
   "source": [
    "### Fonte dos Dados\n",
    "\n",
    "https://ww2.ibge.gov.br/home/estatistica/populacao/trabalhoerendimento/pnad2015/microdados.shtm"
   ]
  },
  {
   "cell_type": "markdown",
   "metadata": {
    "colab_type": "text",
    "id": "r0Fe_qnzjQKj"
   },
   "source": [
    "### Variáveis utilizadas\n",
    "\n",
    "> ### Renda\n",
    "> ***\n",
    "\n",
    "Rendimento mensal do trabalho principal para pessoas de 10 anos ou mais de idade.\n",
    "\n",
    "> ### Idade\n",
    "> ***\n",
    "\n",
    "Idade do morador na data de referência em anos.\n",
    "\n",
    "> ### Altura (elaboração própria)\n",
    "> ***\n",
    "\n",
    "Altura do morador em metros.\n",
    "\n",
    "> ### UF\n",
    "> ***\n",
    "\n",
    "|Código|Descrição|\n",
    "|---|---|\n",
    "|11|Rondônia|\n",
    "|12|Acre|\n",
    "|13|Amazonas|\n",
    "|14|Roraima|\n",
    "|15|Pará|\n",
    "|16|Amapá|\n",
    "|17|Tocantins|\n",
    "|21|Maranhão|\n",
    "|22|Piauí|\n",
    "|23|Ceará|\n",
    "|24|Rio Grande do Norte|\n",
    "|25|Paraíba|\n",
    "|26|Pernambuco|\n",
    "|27|Alagoas|\n",
    "|28|Sergipe|\n",
    "|29|Bahia|\n",
    "|31|Minas Gerais|\n",
    "|32|Espírito Santo|\n",
    "|33|Rio de Janeiro|\n",
    "|35|São Paulo|\n",
    "|41|Paraná|\n",
    "|42|Santa Catarina|\n",
    "|43|Rio Grande do Sul|\n",
    "|50|Mato Grosso do Sul|\n",
    "|51|Mato Grosso|\n",
    "|52|Goiás|\n",
    "|53|Distrito Federal|\n",
    "\n",
    "> ### Sexo\t\n",
    "> ***\n",
    "\n",
    "|Código|Descrição|\n",
    "|---|---|\n",
    "|0|Masculino|\n",
    "|1|Feminino|\n",
    "\n",
    "> ### Anos de Estudo\n",
    "> ***\n",
    "\n",
    "|Código|Descrição|\n",
    "|---|---|\n",
    "|1|Sem instrução e menos de 1 ano|\n",
    "|2|1 ano|\n",
    "|3|2 anos|\n",
    "|4|3 anos|\n",
    "|5|4 anos|\n",
    "|6|5 anos|\n",
    "|7|6 anos|\n",
    "|8|7 anos|\n",
    "|9|8 anos|\n",
    "|10|9 anos|\n",
    "|11|10 anos|\n",
    "|12|11 anos|\n",
    "|13|12 anos|\n",
    "|14|13 anos|\n",
    "|15|14 anos|\n",
    "|16|15 anos ou mais|\n",
    "|17|Não determinados| \n",
    "||Não aplicável|\n",
    "\n",
    "> ### Cor\n",
    "> ***\n",
    "\n",
    "|Código|Descrição|\n",
    "|---|---|\n",
    "|0|Indígena|\n",
    "|2|Branca|\n",
    "|4|Preta|\n",
    "|6|Amarela|\n",
    "|8|Parda|\n",
    "|9|Sem declaração|"
   ]
  },
  {
   "cell_type": "markdown",
   "metadata": {
    "colab_type": "text",
    "id": "OK1IQH5cX7Gb"
   },
   "source": [
    "#### <font color='red'>Observação</font>\n",
    "***\n",
    "> Os seguintes tratamentos foram realizados nos dados originais:\n",
    "> 1. Foram eliminados os registros onde a <b>Renda</b> era inválida (999 999 999 999);\n",
    "> 2. Foram eliminados os registros onde a <b>Renda</b> era missing;\n",
    "> 3. Foram considerados somente os registros das <b>Pessoas de Referência</b> de cada domicílio (responsável pelo domicílio)."
   ]
  },
  {
   "cell_type": "markdown",
   "metadata": {
    "colab_type": "text",
    "id": "ZIqLOffNTg1Y"
   },
   "source": [
    "***\n",
    "***"
   ]
  },
  {
   "cell_type": "markdown",
   "metadata": {
    "colab_type": "text",
    "id": "8Rw70V6ojQKk"
   },
   "source": [
    "### Bibliotecas"
   ]
  },
  {
   "cell_type": "code",
   "execution_count": 3,
   "metadata": {
    "colab": {},
    "colab_type": "code",
    "id": "itHvj-WRKa86"
   },
   "outputs": [],
   "source": [
    "import pandas as pd\n",
    "import numpy as np\n",
    "from scipy.stats import binom\n",
    "from scipy.stats import norm"
   ]
  },
  {
   "cell_type": "markdown",
   "metadata": {
    "colab": {},
    "colab_type": "code",
    "id": "fcTgimHBybMz"
   },
   "source": [
    " "
   ]
  },
  {
   "cell_type": "markdown",
   "metadata": {
    "colab_type": "text",
    "id": "2a-gvBvCULwt"
   },
   "source": [
    "### Dataset "
   ]
  },
  {
   "cell_type": "code",
   "execution_count": 4,
   "metadata": {
    "colab": {},
    "colab_type": "code",
    "id": "ufRZ7TLwjQKo"
   },
   "outputs": [],
   "source": [
    "df = pd.read_csv('dados\\dados.csv')"
   ]
  },
  {
   "cell_type": "code",
   "execution_count": 5,
   "metadata": {
    "colab": {},
    "colab_type": "code",
    "id": "GsC_WhLFjQKq",
    "scrolled": true
   },
   "outputs": [
    {
     "data": {
      "text/html": [
       "<div>\n",
       "<style scoped>\n",
       "    .dataframe tbody tr th:only-of-type {\n",
       "        vertical-align: middle;\n",
       "    }\n",
       "\n",
       "    .dataframe tbody tr th {\n",
       "        vertical-align: top;\n",
       "    }\n",
       "\n",
       "    .dataframe thead th {\n",
       "        text-align: right;\n",
       "    }\n",
       "</style>\n",
       "<table border=\"1\" class=\"dataframe\">\n",
       "  <thead>\n",
       "    <tr style=\"text-align: right;\">\n",
       "      <th></th>\n",
       "      <th>UF</th>\n",
       "      <th>Sexo</th>\n",
       "      <th>Idade</th>\n",
       "      <th>Cor</th>\n",
       "      <th>Anos de Estudo</th>\n",
       "      <th>Renda</th>\n",
       "      <th>Altura</th>\n",
       "    </tr>\n",
       "  </thead>\n",
       "  <tbody>\n",
       "    <tr>\n",
       "      <th>0</th>\n",
       "      <td>11</td>\n",
       "      <td>0</td>\n",
       "      <td>23</td>\n",
       "      <td>8</td>\n",
       "      <td>12</td>\n",
       "      <td>800</td>\n",
       "      <td>1.603808</td>\n",
       "    </tr>\n",
       "    <tr>\n",
       "      <th>1</th>\n",
       "      <td>11</td>\n",
       "      <td>1</td>\n",
       "      <td>23</td>\n",
       "      <td>2</td>\n",
       "      <td>12</td>\n",
       "      <td>1150</td>\n",
       "      <td>1.739790</td>\n",
       "    </tr>\n",
       "    <tr>\n",
       "      <th>2</th>\n",
       "      <td>11</td>\n",
       "      <td>1</td>\n",
       "      <td>35</td>\n",
       "      <td>8</td>\n",
       "      <td>15</td>\n",
       "      <td>880</td>\n",
       "      <td>1.760444</td>\n",
       "    </tr>\n",
       "    <tr>\n",
       "      <th>3</th>\n",
       "      <td>11</td>\n",
       "      <td>0</td>\n",
       "      <td>46</td>\n",
       "      <td>2</td>\n",
       "      <td>6</td>\n",
       "      <td>3500</td>\n",
       "      <td>1.783158</td>\n",
       "    </tr>\n",
       "    <tr>\n",
       "      <th>4</th>\n",
       "      <td>11</td>\n",
       "      <td>1</td>\n",
       "      <td>47</td>\n",
       "      <td>8</td>\n",
       "      <td>9</td>\n",
       "      <td>150</td>\n",
       "      <td>1.690631</td>\n",
       "    </tr>\n",
       "  </tbody>\n",
       "</table>\n",
       "</div>"
      ],
      "text/plain": [
       "   UF  Sexo  Idade  Cor  Anos de Estudo  Renda    Altura\n",
       "0  11     0     23    8              12    800  1.603808\n",
       "1  11     1     23    2              12   1150  1.739790\n",
       "2  11     1     35    8              15    880  1.760444\n",
       "3  11     0     46    2               6   3500  1.783158\n",
       "4  11     1     47    8               9    150  1.690631"
      ]
     },
     "execution_count": 5,
     "metadata": {},
     "output_type": "execute_result"
    }
   ],
   "source": [
    "df.head()"
   ]
  },
  {
   "cell_type": "markdown",
   "metadata": {
    "colab_type": "text",
    "id": "Aa401USPKa9H"
   },
   "source": [
    "## <font color='green'>Selecionando aleatoriamente grupos de 10 indivíduos. Qual a probabilidade de selecionamos um grupo que apresente a mesma proporção da população.</font>"
   ]
  },
  {
   "cell_type": "code",
   "execution_count": 8,
   "metadata": {
    "colab": {},
    "colab_type": "code",
    "id": "lbDcyHPTKa9J"
   },
   "outputs": [
    {
     "data": {
      "text/plain": [
       "0.6929984383133785"
      ]
     },
     "execution_count": 8,
     "metadata": {},
     "output_type": "execute_result"
    }
   ],
   "source": [
    "# Proporção de homens e mulheres\n",
    "p = len(df[df.Sexo == 0]) / len(df)\n",
    "p"
   ]
  },
  {
   "cell_type": "code",
   "execution_count": 9,
   "metadata": {
    "colab": {},
    "colab_type": "code",
    "id": "0_4L_QOnKa9L"
   },
   "outputs": [],
   "source": [
    "n = 10  # tamanho da amostra\n",
    "p = p  # probabilidade de sucesso (homem)\n",
    "k = 7  # número de sucessos desejados"
   ]
  },
  {
   "cell_type": "code",
   "execution_count": 10,
   "metadata": {
    "colab": {},
    "colab_type": "code",
    "id": "rl7sfPTYKa9N"
   },
   "outputs": [
    {
     "name": "stdout",
     "output_type": "stream",
     "text": [
      "Probabilidade de selecionar exatamente 7 homens e 3 mulheres:  26.65 %\n"
     ]
    }
   ],
   "source": [
    "# Probabilidade usando a distribuição binomial\n",
    "probabilidade = binom.pmf(k, n, p)\n",
    "\n",
    "format_probabilidade = f\"{(probabilidade*100):.2f}\"\n",
    "\n",
    "print(\"Probabilidade de selecionar exatamente 7 homens e 3 mulheres: \", format_probabilidade, \"%\")"
   ]
  },
  {
   "cell_type": "markdown",
   "metadata": {},
   "source": [
    " "
   ]
  },
  {
   "cell_type": "markdown",
   "metadata": {
    "colab_type": "text",
    "id": "xhpA2dSYKa9R"
   },
   "source": [
    "## <font color='green'>Quantos grupos de 10 indivíduos nós precisaríamos selecionar, de forma aleatória, para conseguir 100 grupos compostos por 7 homens e 3 mulheres?</font>"
   ]
  },
  {
   "cell_type": "code",
   "execution_count": 11,
   "metadata": {
    "colab": {},
    "colab_type": "code",
    "id": "F27eIYXzKa9T"
   },
   "outputs": [
    {
     "name": "stdout",
     "output_type": "stream",
     "text": [
      "Tentativas necessárias:  375\n"
     ]
    }
   ],
   "source": [
    "# número de sucessos desejados (100 grupos com 7 homens e 3 mulheres)\n",
    "k = 100 \n",
    "\n",
    "# probabilidade de sucesso em uma tentativa individual\n",
    "p = probabilidade \n",
    "\n",
    "# número total de tentativas\n",
    "n = k / p \n",
    "\n",
    "print('Tentativas necessárias: ', int(round(n)))"
   ]
  },
  {
   "cell_type": "markdown",
   "metadata": {},
   "source": [
    " "
   ]
  },
  {
   "cell_type": "markdown",
   "metadata": {
    "colab_type": "text",
    "id": "5OKBEMUNKa9V"
   },
   "source": [
    "# <font color='green'>Rendimento dos chefes de domicílio no Brasil</font>"
   ]
  },
  {
   "cell_type": "markdown",
   "metadata": {
    "colab_type": "text",
    "id": "xEpjzbwBKa9W"
   },
   "source": [
    "Estudo para avaliar o **rendimento dos chefes de domicílio no Brasil**. Para isso precisamos realizar uma nova coleta de dados, isto é, uma nova pesquisa de campo. \n",
    "\n",
    "Informações:\n",
    "\n",
    "> A. O resultado da pesquisa precisa estar pronto em 2 meses;\n",
    "\n",
    "> B. R$\\$$ 150.000,00 de recursos para realização da pesquisa de campo;\n",
    "    \n",
    "> C. Margem de erro não superior a 10% em relação a média estimada.\n",
    "\n",
    "> D. Custo médio por indivíduo entrevistado fica em torno de R$\\$$ 100,00.\n"
   ]
  },
  {
   "cell_type": "markdown",
   "metadata": {
    "colab_type": "text",
    "id": "m4qMQ4kdKa9W"
   },
   "source": [
    "### <font color='blue'>Obtendo uma estimativa para os parâmetros da população (renda dos chefes de domicílio no Brasil), realizei uma amostragem aleatória simples, contendo 200 elementos.</font>"
   ]
  },
  {
   "cell_type": "markdown",
   "metadata": {
    "colab_type": "text",
    "id": "fNb4Yb3RKa9X"
   },
   "source": [
    "### Seleção de uma amostra aleatória simples"
   ]
  },
  {
   "cell_type": "code",
   "execution_count": 12,
   "metadata": {
    "colab": {},
    "colab_type": "code",
    "id": "_HxUH0AhKa9X"
   },
   "outputs": [
    {
     "data": {
      "text/plain": [
       "29042     480\n",
       "62672     250\n",
       "29973     788\n",
       "22428    1680\n",
       "55145    2500\n",
       "Name: Renda, dtype: int64"
      ]
     },
     "execution_count": 12,
     "metadata": {},
     "output_type": "execute_result"
    }
   ],
   "source": [
    "#  amostra com 200 elementos\n",
    "sample_renda_200 = df.Renda.sample(200, random_state = 101)\n",
    "sample_renda_200.head()"
   ]
  },
  {
   "cell_type": "code",
   "execution_count": 13,
   "metadata": {
    "colab": {},
    "colab_type": "code",
    "id": "fJBYID7pKa9Z"
   },
   "outputs": [
    {
     "data": {
      "text/plain": [
       "1964.205"
      ]
     },
     "execution_count": 13,
     "metadata": {},
     "output_type": "execute_result"
    }
   ],
   "source": [
    "# média da amostra\n",
    "sample_renda_200.mean()"
   ]
  },
  {
   "cell_type": "code",
   "execution_count": 14,
   "metadata": {
    "colab": {},
    "colab_type": "code",
    "id": "BXkTyV07Ka9c"
   },
   "outputs": [
    {
     "data": {
      "text/plain": [
       "3139.8855167452157"
      ]
     },
     "execution_count": 14,
     "metadata": {},
     "output_type": "execute_result"
    }
   ],
   "source": [
    "# desvio-padrão da amostra\n",
    "sample_renda_200.std()"
   ]
  },
  {
   "cell_type": "markdown",
   "metadata": {
    "colab_type": "text",
    "id": "fB8NAJsMKa9f"
   },
   "source": [
    "### Dados obtidos"
   ]
  },
  {
   "cell_type": "code",
   "execution_count": 15,
   "metadata": {
    "colab": {},
    "colab_type": "code",
    "id": "daBvAiqbKa9g"
   },
   "outputs": [],
   "source": [
    "media = sample_renda_200.mean()\n",
    "desvio_padrao = sample_renda_200.std()\n",
    "recursos = 150000\n",
    "custo_entrevista = 100"
   ]
  },
  {
   "cell_type": "markdown",
   "metadata": {
    "colab_type": "text",
    "id": "waULC4fmKa9i"
   },
   "source": [
    "## <font color='blue'>Obtendo os **tamanhos de amostra** necessários para garantir os **níveis de confiança de 90%, 95% e 99%**.</font>"
   ]
  },
  {
   "cell_type": "markdown",
   "metadata": {
    "colab_type": "text",
    "id": "dIFt1F2AKa9i"
   },
   "source": [
    "### Margem de erro"
   ]
  },
  {
   "cell_type": "code",
   "execution_count": 16,
   "metadata": {},
   "outputs": [
    {
     "data": {
      "text/plain": [
       "196.4205"
      ]
     },
     "execution_count": 16,
     "metadata": {},
     "output_type": "execute_result"
    }
   ],
   "source": [
    "# margem de erro não superior a 10%\n",
    "\n",
    "margem_erro = 0.1 * media  # 10% da média\n",
    "margem_erro"
   ]
  },
  {
   "cell_type": "markdown",
   "metadata": {
    "colab_type": "text",
    "id": "pLoYC--IKa9l"
   },
   "source": [
    "### Tamanho da amostra ($1 - \\alpha = 90\\%$)"
   ]
  },
  {
   "cell_type": "code",
   "execution_count": 17,
   "metadata": {
    "colab": {},
    "colab_type": "code",
    "id": "-BteoZ6JKa9m"
   },
   "outputs": [
    {
     "name": "stdout",
     "output_type": "stream",
     "text": [
      "Tamanho da amostra: 691\n"
     ]
    }
   ],
   "source": [
    "# nível de confiança\n",
    "confianca = 0.9\n",
    "\n",
    "# calculando a distribuição normal padrão (Z)\n",
    "z = norm.ppf(1 - ((1 - confianca) / 2))\n",
    "\n",
    "# tamanho da amostra\n",
    "n_90 = (z * (desvio_padrao / margem_erro)) ** 2\n",
    "n_90 = int(n_90.round())\n",
    "\n",
    "print(f'Tamanho da amostra: {n_90}')"
   ]
  },
  {
   "cell_type": "markdown",
   "metadata": {
    "colab": {},
    "colab_type": "code",
    "id": "2d8PcF9iKa9o",
    "outputId": "8c21a0d7-43c3-4f68-b166-072cb5f19c0f"
   },
   "source": [
    " "
   ]
  },
  {
   "cell_type": "markdown",
   "metadata": {
    "colab_type": "text",
    "id": "brh0CpeSKa9q"
   },
   "source": [
    "### Tamanho da amostra ($1 - \\alpha = 95\\%$)"
   ]
  },
  {
   "cell_type": "code",
   "execution_count": 18,
   "metadata": {
    "colab": {},
    "colab_type": "code",
    "id": "8NtV47kVKa9q"
   },
   "outputs": [
    {
     "name": "stdout",
     "output_type": "stream",
     "text": [
      "Tamanho da amostra: 982\n"
     ]
    }
   ],
   "source": [
    "# nível de confiança\n",
    "confianca = 0.95\n",
    "\n",
    "# calculando a distribuição normal padrão (Z)\n",
    "z = norm.ppf(1 - ((1 - confianca) / 2))\n",
    "\n",
    "# tamanho da amostra\n",
    "n_95 = (z * (desvio_padrao / margem_erro)) ** 2\n",
    "n_95 = int(n_95.round())\n",
    "\n",
    "print(f'Tamanho da amostra: {n_95}' )"
   ]
  },
  {
   "cell_type": "markdown",
   "metadata": {
    "colab_type": "text",
    "id": "rAEX9_qFKa9y"
   },
   "source": [
    "### Tamanho da amostra ($1 - \\alpha = 99\\%$)"
   ]
  },
  {
   "cell_type": "code",
   "execution_count": 19,
   "metadata": {
    "colab": {},
    "colab_type": "code",
    "id": "dvFHNFsLKa9y"
   },
   "outputs": [
    {
     "name": "stdout",
     "output_type": "stream",
     "text": [
      "Tamanho da amostra: 1695\n"
     ]
    }
   ],
   "source": [
    "# nível de confiança\n",
    "confianca = 0.99\n",
    "\n",
    "# calculando a distribuição normal padrão (Z)\n",
    "z = norm.ppf(1 - ((1 - confianca) / 2))\n",
    "\n",
    "# tamanho da amostra\n",
    "n_99 = (z * (desvio_padrao / margem_erro)) ** 2\n",
    "n_99 = int(n_99.round())\n",
    "\n",
    "print(f'Tamanho da amostra: {n_99}')"
   ]
  },
  {
   "cell_type": "markdown",
   "metadata": {
    "colab": {},
    "colab_type": "code",
    "id": "eTCtwDw_Ka90"
   },
   "source": [
    " \n"
   ]
  },
  {
   "cell_type": "markdown",
   "metadata": {
    "colab_type": "text",
    "id": "n3dILIrGKa93"
   },
   "source": [
    "## <font color='blue'>**Custo da pesquisa** para os três níveis de confiança.</font>"
   ]
  },
  {
   "cell_type": "markdown",
   "metadata": {
    "colab_type": "text",
    "id": "SzkxkOB6Ka93"
   },
   "source": [
    "### Custo da pesquisa para o nível de confiança de 90%"
   ]
  },
  {
   "cell_type": "code",
   "execution_count": 20,
   "metadata": {
    "colab": {},
    "colab_type": "code",
    "id": "j_0BpUBMKa95"
   },
   "outputs": [
    {
     "name": "stdout",
     "output_type": "stream",
     "text": [
      "Para um nível de confiança de 90% o custo de pesquisa seria de: R$ 69100.00.\n"
     ]
    }
   ],
   "source": [
    "custo_90 = custo_entrevista * n_90\n",
    "print(f'Para um nível de confiança de 90% o custo de pesquisa seria de: R$ {custo_90:.2f}.')"
   ]
  },
  {
   "cell_type": "markdown",
   "metadata": {
    "colab_type": "text",
    "id": "DdoUIGXkKa97"
   },
   "source": [
    "### Custo da pesquisa para o nível de confiança de 95%"
   ]
  },
  {
   "cell_type": "code",
   "execution_count": 21,
   "metadata": {
    "colab": {},
    "colab_type": "code",
    "id": "R4YQV7_EKa97"
   },
   "outputs": [
    {
     "name": "stdout",
     "output_type": "stream",
     "text": [
      "Para um nível de confiança de 95% o custo de pesquisa seria de: R$ 98200.00.\n"
     ]
    }
   ],
   "source": [
    "custo_95 = custo_entrevista * n_95\n",
    "print(f'Para um nível de confiança de 95% o custo de pesquisa seria de: R$ {custo_95:.2f}.')"
   ]
  },
  {
   "cell_type": "markdown",
   "metadata": {
    "colab_type": "text",
    "id": "f4SppXkOKa9-"
   },
   "source": [
    "### Custo da pesquisa para o nível de confiança de 99%"
   ]
  },
  {
   "cell_type": "code",
   "execution_count": 22,
   "metadata": {
    "colab": {},
    "colab_type": "code",
    "id": "7fZucTJIKa9-"
   },
   "outputs": [
    {
     "name": "stdout",
     "output_type": "stream",
     "text": [
      "Para um nível de confiança de 99% o custo de pesquisa seria de: R$ 169500.00.\n"
     ]
    }
   ],
   "source": [
    "custo_99 = custo_entrevista * n_99\n",
    "print(f'Para um nível de confiança de 99% o custo de pesquisa seria de: R$ {custo_99:.2f}.')"
   ]
  },
  {
   "cell_type": "markdown",
   "metadata": {},
   "source": [
    " \n"
   ]
  },
  {
   "cell_type": "markdown",
   "metadata": {
    "colab_type": "text",
    "id": "0HVhFFfMKa-A"
   },
   "source": [
    "## <font color='blue'>Obtendo um **intervalo de confiança para a média da população**, para o maior nível de confiança viável dentro do orçamento disponível</font>"
   ]
  },
  {
   "cell_type": "code",
   "execution_count": 23,
   "metadata": {
    "colab": {},
    "colab_type": "code",
    "id": "uTePzAGQKa-B"
   },
   "outputs": [
    {
     "name": "stdout",
     "output_type": "stream",
     "text": [
      "98200\n"
     ]
    }
   ],
   "source": [
    "# maior nível de confiança viável dentro do orçamento disponível\n",
    "custos = [custo_90, custo_95, custo_99]\n",
    "lista = []\n",
    "\n",
    "for custo in custos:\n",
    "    if custo < recursos:\n",
    "        lista.append(custo)\n",
    "        \n",
    "print(max(lista))"
   ]
  },
  {
   "cell_type": "code",
   "execution_count": 24,
   "metadata": {},
   "outputs": [
    {
     "data": {
      "text/plain": [
       "(1767.820973280509, 2160.589026719491)"
      ]
     },
     "execution_count": 24,
     "metadata": {},
     "output_type": "execute_result"
    }
   ],
   "source": [
    "# intervalo de confiança para a média da população\n",
    "intervalo_de_confianca = norm.interval(confidence=0.95, \n",
    "                                       loc=media, \n",
    "                                       scale=(desvio_padrao / np.sqrt(n_95)))\n",
    "intervalo_de_confianca"
   ]
  },
  {
   "cell_type": "markdown",
   "metadata": {
    "colab_type": "text",
    "id": "n8uxkOcPKa-D"
   },
   "source": [
    "# <font color='blue'>Margem de erro a ser considerada utilizando todo o recurso disponibilizado</font>"
   ]
  },
  {
   "cell_type": "code",
   "execution_count": 25,
   "metadata": {
    "colab": {},
    "colab_type": "code",
    "id": "AaGOyW4pKa-E"
   },
   "outputs": [
    {
     "data": {
      "text/plain": [
       "1500.0"
      ]
     },
     "execution_count": 25,
     "metadata": {},
     "output_type": "execute_result"
    }
   ],
   "source": [
    "# Assumindo o nível de confiança escolhido no item anterior, qual margem de erro pode \n",
    "# ser considerada utilizando todo o recurso disponibilizado pelo cliente?\n",
    "\n",
    "n_confianca_95 = recursos / custo_entrevista\n",
    "n_confianca_95"
   ]
  },
  {
   "cell_type": "code",
   "execution_count": 26,
   "metadata": {
    "colab": {},
    "colab_type": "code",
    "id": "31angNvBKa-G"
   },
   "outputs": [
    {
     "name": "stdout",
     "output_type": "stream",
     "text": [
      "Erro de: R$158.90\n"
     ]
    }
   ],
   "source": [
    "# nível de confiança\n",
    "confianca = 0.95\n",
    "\n",
    "# calculando a distribuição normal padrão (Z)\n",
    "z = norm.ppf(1 - ((1 - confianca) / 2))\n",
    "\n",
    "# calculando erro\n",
    "e = z * (desvio_padrao / np.sqrt(n_confianca_95))\n",
    "\n",
    "print(f'Erro de: R${e:.2f}')"
   ]
  },
  {
   "cell_type": "code",
   "execution_count": 27,
   "metadata": {
    "colab": {},
    "colab_type": "code",
    "id": "SMIRTmytKa-I"
   },
   "outputs": [
    {
     "name": "stdout",
     "output_type": "stream",
     "text": [
      "Nova margem de erro: 8.09%\n"
     ]
    }
   ],
   "source": [
    "e_percentual = e / media\n",
    "\n",
    "print(f'Nova margem de erro: {e_percentual*100:.2f}%')"
   ]
  },
  {
   "cell_type": "markdown",
   "metadata": {},
   "source": [
    " "
   ]
  },
  {
   "cell_type": "markdown",
   "metadata": {
    "colab_type": "text",
    "id": "ood3yi8mKa-K"
   },
   "source": [
    "## <font color='blue'>Assumindo um nível de confiança de 95%, quanto a pesquisa custaria caso fosse considerada uma margem de erro de apenas 5% em relação a média estimada</font>"
   ]
  },
  {
   "cell_type": "code",
   "execution_count": 24,
   "metadata": {
    "colab": {},
    "colab_type": "code",
    "id": "c81OsbN1Ka-R"
   },
   "outputs": [
    {
     "name": "stdout",
     "output_type": "stream",
     "text": [
      "Tamanho da amostra: 3927\n"
     ]
    }
   ],
   "source": [
    "# margem de erro\n",
    "e = 0.05 * media\n",
    "\n",
    "# nível de confiança\n",
    "confianca = 0.95\n",
    "\n",
    "# calculando a distribuição normal padrão (Z)\n",
    "z = norm.ppf(1 - ((1 - confianca) / 2))\n",
    "\n",
    "# tamanho da amostra\n",
    "n = ((z * (desvio_padrao/ e)) ** 2)\n",
    "n = int(n.round())\n",
    "\n",
    "print(f'Tamanho da amostra: {n}')"
   ]
  },
  {
   "cell_type": "code",
   "execution_count": 25,
   "metadata": {
    "colab": {},
    "colab_type": "code",
    "id": "emcgxVCIKa-T"
   },
   "outputs": [
    {
     "name": "stdout",
     "output_type": "stream",
     "text": [
      "Considerando uma margem de erro de 5%, a pesquisa custaria: \n",
      "R$ 392700.00\n"
     ]
    }
   ],
   "source": [
    "# custo da pesquisa\n",
    "custo = n * custo_entrevista\n",
    "\n",
    "print(f'Considerando uma margem de erro de 5%, a pesquisa custaria: \\nR$ {custo:.2f}')"
   ]
  },
  {
   "cell_type": "markdown",
   "metadata": {},
   "source": [
    "## <font color=green>Conclusão</font>\n",
    "***"
   ]
  },
  {
   "cell_type": "markdown",
   "metadata": {},
   "source": [
    "Neste projeto, exploramos o rico conjunto de dados da Pesquisa Nacional por Amostra de Domicílios - 2015, que fornece informações cruciais sobre a população brasileira em áreas como renda, educação, idade e muito mais. Ao longo do projeto, realizamos análises estatísticas para responder a questões específicas, como a probabilidade de selecionar grupos com composições específicas e a determinação do tamanho da amostra necessário para atingir diferentes níveis de confiança.\n",
    "\n",
    "Além disso, abordamos a questão do custo e da margem de erro em uma pesquisa de campo destinada a avaliar o rendimento dos chefes de domicílio no Brasil. Essa análise demonstrou a importância de equilibrar os recursos disponíveis, o nível de confiança desejado e a margem de erro aceitável ao planejar uma pesquisa.\n",
    "\n",
    "Em resumo, este projeto exemplifica como os dados da PNAD 2015 podem ser explorados e analisados para obter insights significativos sobre a população brasileira e destaca a importância de considerar fatores como custo e margem de erro ao projetar pesquisas de campo."
   ]
  },
  {
   "cell_type": "markdown",
   "metadata": {},
   "source": [
    " "
   ]
  }
 ],
 "metadata": {
  "colab": {
   "name": "Estimativas.ipynb",
   "provenance": [],
   "toc_visible": true,
   "version": "0.3.2"
  },
  "kernelspec": {
   "display_name": "Python 3 (ipykernel)",
   "language": "python",
   "name": "python3"
  },
  "language_info": {
   "codemirror_mode": {
    "name": "ipython",
    "version": 3
   },
   "file_extension": ".py",
   "mimetype": "text/x-python",
   "name": "python",
   "nbconvert_exporter": "python",
   "pygments_lexer": "ipython3",
   "version": "3.11.4"
  }
 },
 "nbformat": 4,
 "nbformat_minor": 1
}
