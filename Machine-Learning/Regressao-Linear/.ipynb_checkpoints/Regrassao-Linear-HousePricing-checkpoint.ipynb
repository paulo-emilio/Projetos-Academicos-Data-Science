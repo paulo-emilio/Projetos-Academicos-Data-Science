{
 "cells": [
  {
   "cell_type": "markdown",
   "metadata": {},
   "source": [
    "<h1 style='color: green; font-size: 36px; font-weight: bold;'>Regressão Linear - HousePricing</h1>"
   ]
  },
  {
   "cell_type": "markdown",
   "metadata": {},
   "source": [
    "## Importando bibliotecas"
   ]
  },
  {
   "cell_type": "code",
   "execution_count": 1,
   "metadata": {},
   "outputs": [],
   "source": [
    "import numpy as np\n",
    "import pandas as pd\n",
    "import seaborn as sns\n",
    "import matplotlib.pyplot as plt"
   ]
  },
  {
   "cell_type": "code",
   "execution_count": 2,
   "metadata": {},
   "outputs": [],
   "source": [
    "import warnings\n",
    "warnings.filterwarnings('ignore', category=UserWarning, module='sklearn')"
   ]
  },
  {
   "cell_type": "markdown",
   "metadata": {},
   "source": [
    "# O Dataset e o Projeto\n",
    "<hr>\n",
    "\n",
    "### Fonte: https://www.kaggle.com/greenwing1985/housepricing\n",
    "\n",
    "### Descrição:\n",
    "<p style='font-size: 18px; line-height: 2; margin: 10px 50px; text-align: justify;'>Meu objetivo é criar um modelo de machine learning, utilizando a técnica de Regressão Linear, que faça previsões sobre os preços de imóveis a partir de um conjunto de características conhecidas dos imóveis. Para esta análise, iniciei com um conjunto de dados disponível no Kaggle, a partir do qual criei uma amostra representativa para facilitar o desenvolvimento do modelo.</p>\n",
    "\n",
    "### Dados:\n",
    "<ul style='font-size: 18px; line-height: 2; text-align: justify;'>\n",
    "    <li><b>Area</b> - Área do imóvel em metros quadrados</li>\n",
    "    <li><b>Garage</b> - Quantiade de vagas de garagem</li>\n",
    "    <li><b>FirePlace</b> - Quantiade de lareiras</li>\n",
    "    <li><b>Baths</b> - Quantiade de banheiros</li>\n",
    "    <li><b>White Marble</b> - Acabamento em mármore branco?</li>\n",
    "    <li><b>Black Marble</b> - Acabamento em mármore preto?</li>\n",
    "    <li><b>Indian Marble</b> - Acabamento em mármore indiano?</li>\n",
    "    <li><b>Floors</b> - Quantiade de andares</li>\n",
    "    <li><b>City</b> - Cidade</li>\n",
    "    <li><b>Solar</b> - Aquecimento solar?</li>\n",
    "    <li><b>Electric</b> - Rede Elétrica?</li>\n",
    "    <li><b>Fiber</b> - Fibra óptica?</li>\n",
    "    <li><b>Glass Doors</b> - Portas de vidro?</li>\n",
    "    <li><b>Swimming Pool</b> - Piscina?</li>\n",
    "    <li><b>Garden</b> - Jardim?</li>\n",
    "    <li><b>Prices</b> - Preços dos imóveis</li>\n",
    "</ul>\n",
    "\n",
    "<p style='font-size: 18px; line-height: 2; margin: 10px 50px; text-align: justify;'><b>Observação: </b>Nas descrições que contêm uma pergunta (?), está atribuído 1 para \"sim\" e 0 para \"não\".</p>"
   ]
  },
  {
   "cell_type": "markdown",
   "metadata": {},
   "source": [
    "## Leitura dos dados"
   ]
  },
  {
   "cell_type": "code",
   "execution_count": 3,
   "metadata": {},
   "outputs": [],
   "source": [
    "df = pd.read_csv('dados/Amostra-HousePrices_HalfMil.csv')"
   ]
  },
  {
   "cell_type": "markdown",
   "metadata": {},
   "source": [
    "## Visualização dos dados"
   ]
  },
  {
   "cell_type": "code",
   "execution_count": 4,
   "metadata": {
    "scrolled": true
   },
   "outputs": [
    {
     "data": {
      "text/html": [
       "<div>\n",
       "<style scoped>\n",
       "    .dataframe tbody tr th:only-of-type {\n",
       "        vertical-align: middle;\n",
       "    }\n",
       "\n",
       "    .dataframe tbody tr th {\n",
       "        vertical-align: top;\n",
       "    }\n",
       "\n",
       "    .dataframe thead th {\n",
       "        text-align: right;\n",
       "    }\n",
       "</style>\n",
       "<table border=\"1\" class=\"dataframe\">\n",
       "  <thead>\n",
       "    <tr style=\"text-align: right;\">\n",
       "      <th></th>\n",
       "      <th>Area</th>\n",
       "      <th>Garage</th>\n",
       "      <th>FirePlace</th>\n",
       "      <th>Baths</th>\n",
       "      <th>White Marble</th>\n",
       "      <th>Black Marble</th>\n",
       "      <th>Indian Marble</th>\n",
       "      <th>Floors</th>\n",
       "      <th>City</th>\n",
       "      <th>Solar</th>\n",
       "      <th>Electric</th>\n",
       "      <th>Fiber</th>\n",
       "      <th>Glass Doors</th>\n",
       "      <th>Swiming Pool</th>\n",
       "      <th>Garden</th>\n",
       "      <th>Prices</th>\n",
       "    </tr>\n",
       "  </thead>\n",
       "  <tbody>\n",
       "    <tr>\n",
       "      <th>0</th>\n",
       "      <td>113</td>\n",
       "      <td>2</td>\n",
       "      <td>2</td>\n",
       "      <td>1</td>\n",
       "      <td>1</td>\n",
       "      <td>0</td>\n",
       "      <td>0</td>\n",
       "      <td>1</td>\n",
       "      <td>3</td>\n",
       "      <td>1</td>\n",
       "      <td>1</td>\n",
       "      <td>0</td>\n",
       "      <td>0</td>\n",
       "      <td>1</td>\n",
       "      <td>0</td>\n",
       "      <td>50575</td>\n",
       "    </tr>\n",
       "    <tr>\n",
       "      <th>1</th>\n",
       "      <td>55</td>\n",
       "      <td>3</td>\n",
       "      <td>4</td>\n",
       "      <td>2</td>\n",
       "      <td>1</td>\n",
       "      <td>0</td>\n",
       "      <td>0</td>\n",
       "      <td>1</td>\n",
       "      <td>2</td>\n",
       "      <td>0</td>\n",
       "      <td>0</td>\n",
       "      <td>1</td>\n",
       "      <td>1</td>\n",
       "      <td>0</td>\n",
       "      <td>0</td>\n",
       "      <td>64575</td>\n",
       "    </tr>\n",
       "    <tr>\n",
       "      <th>2</th>\n",
       "      <td>19</td>\n",
       "      <td>2</td>\n",
       "      <td>3</td>\n",
       "      <td>4</td>\n",
       "      <td>0</td>\n",
       "      <td>1</td>\n",
       "      <td>0</td>\n",
       "      <td>1</td>\n",
       "      <td>2</td>\n",
       "      <td>1</td>\n",
       "      <td>0</td>\n",
       "      <td>1</td>\n",
       "      <td>1</td>\n",
       "      <td>1</td>\n",
       "      <td>1</td>\n",
       "      <td>55175</td>\n",
       "    </tr>\n",
       "    <tr>\n",
       "      <th>3</th>\n",
       "      <td>206</td>\n",
       "      <td>3</td>\n",
       "      <td>2</td>\n",
       "      <td>2</td>\n",
       "      <td>0</td>\n",
       "      <td>1</td>\n",
       "      <td>0</td>\n",
       "      <td>1</td>\n",
       "      <td>1</td>\n",
       "      <td>0</td>\n",
       "      <td>0</td>\n",
       "      <td>0</td>\n",
       "      <td>0</td>\n",
       "      <td>0</td>\n",
       "      <td>1</td>\n",
       "      <td>38150</td>\n",
       "    </tr>\n",
       "    <tr>\n",
       "      <th>4</th>\n",
       "      <td>158</td>\n",
       "      <td>3</td>\n",
       "      <td>3</td>\n",
       "      <td>5</td>\n",
       "      <td>0</td>\n",
       "      <td>1</td>\n",
       "      <td>0</td>\n",
       "      <td>0</td>\n",
       "      <td>1</td>\n",
       "      <td>1</td>\n",
       "      <td>0</td>\n",
       "      <td>0</td>\n",
       "      <td>1</td>\n",
       "      <td>0</td>\n",
       "      <td>1</td>\n",
       "      <td>31150</td>\n",
       "    </tr>\n",
       "  </tbody>\n",
       "</table>\n",
       "</div>"
      ],
      "text/plain": [
       "   Area  Garage  FirePlace  Baths  White Marble  Black Marble  Indian Marble  \\\n",
       "0   113       2          2      1             1             0              0   \n",
       "1    55       3          4      2             1             0              0   \n",
       "2    19       2          3      4             0             1              0   \n",
       "3   206       3          2      2             0             1              0   \n",
       "4   158       3          3      5             0             1              0   \n",
       "\n",
       "   Floors  City  Solar  Electric  Fiber  Glass Doors  Swiming Pool  Garden  \\\n",
       "0       1     3      1         1      0            0             1       0   \n",
       "1       1     2      0         0      1            1             0       0   \n",
       "2       1     2      1         0      1            1             1       1   \n",
       "3       1     1      0         0      0            0             0       1   \n",
       "4       0     1      1         0      0            1             0       1   \n",
       "\n",
       "   Prices  \n",
       "0   50575  \n",
       "1   64575  \n",
       "2   55175  \n",
       "3   38150  \n",
       "4   31150  "
      ]
     },
     "execution_count": 4,
     "metadata": {},
     "output_type": "execute_result"
    }
   ],
   "source": [
    "df.head()"
   ]
  },
  {
   "cell_type": "markdown",
   "metadata": {},
   "source": [
    "## Tamanho do dataset"
   ]
  },
  {
   "cell_type": "code",
   "execution_count": 5,
   "metadata": {},
   "outputs": [
    {
     "data": {
      "text/plain": [
       "(5000, 16)"
      ]
     },
     "execution_count": 5,
     "metadata": {},
     "output_type": "execute_result"
    }
   ],
   "source": [
    "df.shape"
   ]
  },
  {
   "cell_type": "markdown",
   "metadata": {},
   "source": [
    "# <font color='red' style='font-size: 30px;'>Análises Preliminares</font>\n",
    "<hr style='border: 2px solid red;'>"
   ]
  },
  {
   "cell_type": "markdown",
   "metadata": {},
   "source": [
    "## Estatísticas descritivas"
   ]
  },
  {
   "cell_type": "code",
   "execution_count": 6,
   "metadata": {},
   "outputs": [
    {
     "data": {
      "text/html": [
       "<div>\n",
       "<style scoped>\n",
       "    .dataframe tbody tr th:only-of-type {\n",
       "        vertical-align: middle;\n",
       "    }\n",
       "\n",
       "    .dataframe tbody tr th {\n",
       "        vertical-align: top;\n",
       "    }\n",
       "\n",
       "    .dataframe thead th {\n",
       "        text-align: right;\n",
       "    }\n",
       "</style>\n",
       "<table border=\"1\" class=\"dataframe\">\n",
       "  <thead>\n",
       "    <tr style=\"text-align: right;\">\n",
       "      <th></th>\n",
       "      <th>Area</th>\n",
       "      <th>Garage</th>\n",
       "      <th>FirePlace</th>\n",
       "      <th>Baths</th>\n",
       "      <th>White Marble</th>\n",
       "      <th>Black Marble</th>\n",
       "      <th>Indian Marble</th>\n",
       "      <th>Floors</th>\n",
       "      <th>City</th>\n",
       "      <th>Solar</th>\n",
       "      <th>Electric</th>\n",
       "      <th>Fiber</th>\n",
       "      <th>Glass Doors</th>\n",
       "      <th>Swiming Pool</th>\n",
       "      <th>Garden</th>\n",
       "      <th>Prices</th>\n",
       "    </tr>\n",
       "  </thead>\n",
       "  <tbody>\n",
       "    <tr>\n",
       "      <th>count</th>\n",
       "      <td>5000.00</td>\n",
       "      <td>5000.00</td>\n",
       "      <td>5000.00</td>\n",
       "      <td>5000.00</td>\n",
       "      <td>5000.00</td>\n",
       "      <td>5000.00</td>\n",
       "      <td>5000.00</td>\n",
       "      <td>5000.0</td>\n",
       "      <td>5000.00</td>\n",
       "      <td>5000.0</td>\n",
       "      <td>5000.0</td>\n",
       "      <td>5000.00</td>\n",
       "      <td>5000.0</td>\n",
       "      <td>5000.0</td>\n",
       "      <td>5000.00</td>\n",
       "      <td>5000.00</td>\n",
       "    </tr>\n",
       "    <tr>\n",
       "      <th>mean</th>\n",
       "      <td>125.47</td>\n",
       "      <td>2.02</td>\n",
       "      <td>1.99</td>\n",
       "      <td>3.00</td>\n",
       "      <td>0.33</td>\n",
       "      <td>0.34</td>\n",
       "      <td>0.33</td>\n",
       "      <td>0.5</td>\n",
       "      <td>1.99</td>\n",
       "      <td>0.5</td>\n",
       "      <td>0.5</td>\n",
       "      <td>0.51</td>\n",
       "      <td>0.5</td>\n",
       "      <td>0.5</td>\n",
       "      <td>0.51</td>\n",
       "      <td>42092.82</td>\n",
       "    </tr>\n",
       "    <tr>\n",
       "      <th>std</th>\n",
       "      <td>71.85</td>\n",
       "      <td>0.81</td>\n",
       "      <td>1.42</td>\n",
       "      <td>1.41</td>\n",
       "      <td>0.47</td>\n",
       "      <td>0.47</td>\n",
       "      <td>0.47</td>\n",
       "      <td>0.5</td>\n",
       "      <td>0.82</td>\n",
       "      <td>0.5</td>\n",
       "      <td>0.5</td>\n",
       "      <td>0.50</td>\n",
       "      <td>0.5</td>\n",
       "      <td>0.5</td>\n",
       "      <td>0.50</td>\n",
       "      <td>12018.81</td>\n",
       "    </tr>\n",
       "    <tr>\n",
       "      <th>min</th>\n",
       "      <td>1.00</td>\n",
       "      <td>1.00</td>\n",
       "      <td>0.00</td>\n",
       "      <td>1.00</td>\n",
       "      <td>0.00</td>\n",
       "      <td>0.00</td>\n",
       "      <td>0.00</td>\n",
       "      <td>0.0</td>\n",
       "      <td>1.00</td>\n",
       "      <td>0.0</td>\n",
       "      <td>0.0</td>\n",
       "      <td>0.00</td>\n",
       "      <td>0.0</td>\n",
       "      <td>0.0</td>\n",
       "      <td>0.00</td>\n",
       "      <td>10400.00</td>\n",
       "    </tr>\n",
       "    <tr>\n",
       "      <th>25%</th>\n",
       "      <td>63.00</td>\n",
       "      <td>1.00</td>\n",
       "      <td>1.00</td>\n",
       "      <td>2.00</td>\n",
       "      <td>0.00</td>\n",
       "      <td>0.00</td>\n",
       "      <td>0.00</td>\n",
       "      <td>0.0</td>\n",
       "      <td>1.00</td>\n",
       "      <td>0.0</td>\n",
       "      <td>0.0</td>\n",
       "      <td>0.00</td>\n",
       "      <td>0.0</td>\n",
       "      <td>0.0</td>\n",
       "      <td>0.00</td>\n",
       "      <td>33525.00</td>\n",
       "    </tr>\n",
       "    <tr>\n",
       "      <th>50%</th>\n",
       "      <td>126.00</td>\n",
       "      <td>2.00</td>\n",
       "      <td>2.00</td>\n",
       "      <td>3.00</td>\n",
       "      <td>0.00</td>\n",
       "      <td>0.00</td>\n",
       "      <td>0.00</td>\n",
       "      <td>0.0</td>\n",
       "      <td>2.00</td>\n",
       "      <td>1.0</td>\n",
       "      <td>0.5</td>\n",
       "      <td>1.00</td>\n",
       "      <td>1.0</td>\n",
       "      <td>0.0</td>\n",
       "      <td>1.00</td>\n",
       "      <td>41725.00</td>\n",
       "    </tr>\n",
       "    <tr>\n",
       "      <th>75%</th>\n",
       "      <td>189.00</td>\n",
       "      <td>3.00</td>\n",
       "      <td>3.00</td>\n",
       "      <td>4.00</td>\n",
       "      <td>1.00</td>\n",
       "      <td>1.00</td>\n",
       "      <td>1.00</td>\n",
       "      <td>1.0</td>\n",
       "      <td>3.00</td>\n",
       "      <td>1.0</td>\n",
       "      <td>1.0</td>\n",
       "      <td>1.00</td>\n",
       "      <td>1.0</td>\n",
       "      <td>1.0</td>\n",
       "      <td>1.00</td>\n",
       "      <td>50600.00</td>\n",
       "    </tr>\n",
       "    <tr>\n",
       "      <th>max</th>\n",
       "      <td>249.00</td>\n",
       "      <td>3.00</td>\n",
       "      <td>4.00</td>\n",
       "      <td>5.00</td>\n",
       "      <td>1.00</td>\n",
       "      <td>1.00</td>\n",
       "      <td>1.00</td>\n",
       "      <td>1.0</td>\n",
       "      <td>3.00</td>\n",
       "      <td>1.0</td>\n",
       "      <td>1.0</td>\n",
       "      <td>1.00</td>\n",
       "      <td>1.0</td>\n",
       "      <td>1.0</td>\n",
       "      <td>1.00</td>\n",
       "      <td>75925.00</td>\n",
       "    </tr>\n",
       "  </tbody>\n",
       "</table>\n",
       "</div>"
      ],
      "text/plain": [
       "          Area   Garage  FirePlace    Baths  White Marble  Black Marble  \\\n",
       "count  5000.00  5000.00    5000.00  5000.00       5000.00       5000.00   \n",
       "mean    125.47     2.02       1.99     3.00          0.33          0.34   \n",
       "std      71.85     0.81       1.42     1.41          0.47          0.47   \n",
       "min       1.00     1.00       0.00     1.00          0.00          0.00   \n",
       "25%      63.00     1.00       1.00     2.00          0.00          0.00   \n",
       "50%     126.00     2.00       2.00     3.00          0.00          0.00   \n",
       "75%     189.00     3.00       3.00     4.00          1.00          1.00   \n",
       "max     249.00     3.00       4.00     5.00          1.00          1.00   \n",
       "\n",
       "       Indian Marble  Floors     City   Solar  Electric    Fiber  Glass Doors  \\\n",
       "count        5000.00  5000.0  5000.00  5000.0    5000.0  5000.00       5000.0   \n",
       "mean            0.33     0.5     1.99     0.5       0.5     0.51          0.5   \n",
       "std             0.47     0.5     0.82     0.5       0.5     0.50          0.5   \n",
       "min             0.00     0.0     1.00     0.0       0.0     0.00          0.0   \n",
       "25%             0.00     0.0     1.00     0.0       0.0     0.00          0.0   \n",
       "50%             0.00     0.0     2.00     1.0       0.5     1.00          1.0   \n",
       "75%             1.00     1.0     3.00     1.0       1.0     1.00          1.0   \n",
       "max             1.00     1.0     3.00     1.0       1.0     1.00          1.0   \n",
       "\n",
       "       Swiming Pool   Garden    Prices  \n",
       "count        5000.0  5000.00   5000.00  \n",
       "mean            0.5     0.51  42092.82  \n",
       "std             0.5     0.50  12018.81  \n",
       "min             0.0     0.00  10400.00  \n",
       "25%             0.0     0.00  33525.00  \n",
       "50%             0.0     1.00  41725.00  \n",
       "75%             1.0     1.00  50600.00  \n",
       "max             1.0     1.00  75925.00  "
      ]
     },
     "execution_count": 6,
     "metadata": {},
     "output_type": "execute_result"
    }
   ],
   "source": [
    "df.describe().round(2)"
   ]
  },
  {
   "cell_type": "markdown",
   "metadata": {},
   "source": [
    "## Matriz de correlação"
   ]
  },
  {
   "cell_type": "code",
   "execution_count": 7,
   "metadata": {
    "scrolled": true
   },
   "outputs": [
    {
     "data": {
      "text/html": [
       "<div>\n",
       "<style scoped>\n",
       "    .dataframe tbody tr th:only-of-type {\n",
       "        vertical-align: middle;\n",
       "    }\n",
       "\n",
       "    .dataframe tbody tr th {\n",
       "        vertical-align: top;\n",
       "    }\n",
       "\n",
       "    .dataframe thead th {\n",
       "        text-align: right;\n",
       "    }\n",
       "</style>\n",
       "<table border=\"1\" class=\"dataframe\">\n",
       "  <thead>\n",
       "    <tr style=\"text-align: right;\">\n",
       "      <th></th>\n",
       "      <th>Area</th>\n",
       "      <th>Garage</th>\n",
       "      <th>FirePlace</th>\n",
       "      <th>Baths</th>\n",
       "      <th>White Marble</th>\n",
       "      <th>Black Marble</th>\n",
       "      <th>Indian Marble</th>\n",
       "      <th>Floors</th>\n",
       "      <th>City</th>\n",
       "      <th>Solar</th>\n",
       "      <th>Electric</th>\n",
       "      <th>Fiber</th>\n",
       "      <th>Glass Doors</th>\n",
       "      <th>Swiming Pool</th>\n",
       "      <th>Garden</th>\n",
       "      <th>Prices</th>\n",
       "    </tr>\n",
       "  </thead>\n",
       "  <tbody>\n",
       "    <tr>\n",
       "      <th>Area</th>\n",
       "      <td>1.0000</td>\n",
       "      <td>-0.0165</td>\n",
       "      <td>0.0011</td>\n",
       "      <td>-0.0109</td>\n",
       "      <td>0.0054</td>\n",
       "      <td>0.0052</td>\n",
       "      <td>-0.0106</td>\n",
       "      <td>0.0217</td>\n",
       "      <td>0.0094</td>\n",
       "      <td>0.0148</td>\n",
       "      <td>0.0090</td>\n",
       "      <td>-0.0046</td>\n",
       "      <td>0.0086</td>\n",
       "      <td>0.0183</td>\n",
       "      <td>0.0142</td>\n",
       "      <td>0.1660</td>\n",
       "    </tr>\n",
       "    <tr>\n",
       "      <th>Garage</th>\n",
       "      <td>-0.0165</td>\n",
       "      <td>1.0000</td>\n",
       "      <td>0.0155</td>\n",
       "      <td>0.0109</td>\n",
       "      <td>-0.0257</td>\n",
       "      <td>0.0039</td>\n",
       "      <td>0.0218</td>\n",
       "      <td>-0.0171</td>\n",
       "      <td>0.0140</td>\n",
       "      <td>0.0038</td>\n",
       "      <td>-0.0010</td>\n",
       "      <td>0.0086</td>\n",
       "      <td>-0.0100</td>\n",
       "      <td>0.0247</td>\n",
       "      <td>-0.0279</td>\n",
       "      <td>0.0839</td>\n",
       "    </tr>\n",
       "    <tr>\n",
       "      <th>FirePlace</th>\n",
       "      <td>0.0011</td>\n",
       "      <td>0.0155</td>\n",
       "      <td>1.0000</td>\n",
       "      <td>-0.0004</td>\n",
       "      <td>0.0012</td>\n",
       "      <td>0.0048</td>\n",
       "      <td>-0.0060</td>\n",
       "      <td>0.0016</td>\n",
       "      <td>-0.0156</td>\n",
       "      <td>-0.0100</td>\n",
       "      <td>0.0028</td>\n",
       "      <td>-0.0055</td>\n",
       "      <td>-0.0061</td>\n",
       "      <td>-0.0000</td>\n",
       "      <td>0.0156</td>\n",
       "      <td>0.0856</td>\n",
       "    </tr>\n",
       "    <tr>\n",
       "      <th>Baths</th>\n",
       "      <td>-0.0109</td>\n",
       "      <td>0.0109</td>\n",
       "      <td>-0.0004</td>\n",
       "      <td>1.0000</td>\n",
       "      <td>0.0000</td>\n",
       "      <td>0.0021</td>\n",
       "      <td>-0.0021</td>\n",
       "      <td>-0.0007</td>\n",
       "      <td>-0.0097</td>\n",
       "      <td>0.0027</td>\n",
       "      <td>-0.0313</td>\n",
       "      <td>-0.0061</td>\n",
       "      <td>-0.0044</td>\n",
       "      <td>-0.0123</td>\n",
       "      <td>-0.0135</td>\n",
       "      <td>0.1385</td>\n",
       "    </tr>\n",
       "    <tr>\n",
       "      <th>White Marble</th>\n",
       "      <td>0.0054</td>\n",
       "      <td>-0.0257</td>\n",
       "      <td>0.0012</td>\n",
       "      <td>0.0000</td>\n",
       "      <td>1.0000</td>\n",
       "      <td>-0.5008</td>\n",
       "      <td>-0.4972</td>\n",
       "      <td>0.0059</td>\n",
       "      <td>-0.0505</td>\n",
       "      <td>-0.0087</td>\n",
       "      <td>0.0085</td>\n",
       "      <td>-0.0147</td>\n",
       "      <td>0.0077</td>\n",
       "      <td>-0.0181</td>\n",
       "      <td>0.0159</td>\n",
       "      <td>0.4346</td>\n",
       "    </tr>\n",
       "    <tr>\n",
       "      <th>Black Marble</th>\n",
       "      <td>0.0052</td>\n",
       "      <td>0.0039</td>\n",
       "      <td>0.0048</td>\n",
       "      <td>0.0021</td>\n",
       "      <td>-0.5008</td>\n",
       "      <td>1.0000</td>\n",
       "      <td>-0.5019</td>\n",
       "      <td>0.0064</td>\n",
       "      <td>0.0322</td>\n",
       "      <td>0.0204</td>\n",
       "      <td>0.0097</td>\n",
       "      <td>0.0153</td>\n",
       "      <td>-0.0157</td>\n",
       "      <td>0.0036</td>\n",
       "      <td>0.0077</td>\n",
       "      <td>-0.0593</td>\n",
       "    </tr>\n",
       "    <tr>\n",
       "      <th>Indian Marble</th>\n",
       "      <td>-0.0106</td>\n",
       "      <td>0.0218</td>\n",
       "      <td>-0.0060</td>\n",
       "      <td>-0.0021</td>\n",
       "      <td>-0.4972</td>\n",
       "      <td>-0.5019</td>\n",
       "      <td>1.0000</td>\n",
       "      <td>-0.0123</td>\n",
       "      <td>0.0182</td>\n",
       "      <td>-0.0117</td>\n",
       "      <td>-0.0183</td>\n",
       "      <td>-0.0007</td>\n",
       "      <td>0.0081</td>\n",
       "      <td>0.0146</td>\n",
       "      <td>-0.0236</td>\n",
       "      <td>-0.3748</td>\n",
       "    </tr>\n",
       "    <tr>\n",
       "      <th>Floors</th>\n",
       "      <td>0.0217</td>\n",
       "      <td>-0.0171</td>\n",
       "      <td>0.0016</td>\n",
       "      <td>-0.0007</td>\n",
       "      <td>0.0059</td>\n",
       "      <td>0.0064</td>\n",
       "      <td>-0.0123</td>\n",
       "      <td>1.0000</td>\n",
       "      <td>0.0034</td>\n",
       "      <td>-0.0131</td>\n",
       "      <td>0.0140</td>\n",
       "      <td>-0.0063</td>\n",
       "      <td>0.0004</td>\n",
       "      <td>-0.0068</td>\n",
       "      <td>-0.0031</td>\n",
       "      <td>0.6285</td>\n",
       "    </tr>\n",
       "    <tr>\n",
       "      <th>City</th>\n",
       "      <td>0.0094</td>\n",
       "      <td>0.0140</td>\n",
       "      <td>-0.0156</td>\n",
       "      <td>-0.0097</td>\n",
       "      <td>-0.0505</td>\n",
       "      <td>0.0322</td>\n",
       "      <td>0.0182</td>\n",
       "      <td>0.0034</td>\n",
       "      <td>1.0000</td>\n",
       "      <td>0.0069</td>\n",
       "      <td>0.0294</td>\n",
       "      <td>0.0011</td>\n",
       "      <td>-0.0220</td>\n",
       "      <td>-0.0108</td>\n",
       "      <td>0.0017</td>\n",
       "      <td>0.2167</td>\n",
       "    </tr>\n",
       "    <tr>\n",
       "      <th>Solar</th>\n",
       "      <td>0.0148</td>\n",
       "      <td>0.0038</td>\n",
       "      <td>-0.0100</td>\n",
       "      <td>0.0027</td>\n",
       "      <td>-0.0087</td>\n",
       "      <td>0.0204</td>\n",
       "      <td>-0.0117</td>\n",
       "      <td>-0.0131</td>\n",
       "      <td>0.0069</td>\n",
       "      <td>1.0000</td>\n",
       "      <td>0.0312</td>\n",
       "      <td>0.0115</td>\n",
       "      <td>-0.0033</td>\n",
       "      <td>-0.0264</td>\n",
       "      <td>0.0026</td>\n",
       "      <td>0.0118</td>\n",
       "    </tr>\n",
       "    <tr>\n",
       "      <th>Electric</th>\n",
       "      <td>0.0090</td>\n",
       "      <td>-0.0010</td>\n",
       "      <td>0.0028</td>\n",
       "      <td>-0.0313</td>\n",
       "      <td>0.0085</td>\n",
       "      <td>0.0097</td>\n",
       "      <td>-0.0183</td>\n",
       "      <td>0.0140</td>\n",
       "      <td>0.0294</td>\n",
       "      <td>0.0312</td>\n",
       "      <td>1.0000</td>\n",
       "      <td>-0.0156</td>\n",
       "      <td>0.0016</td>\n",
       "      <td>0.0072</td>\n",
       "      <td>0.0036</td>\n",
       "      <td>0.0642</td>\n",
       "    </tr>\n",
       "    <tr>\n",
       "      <th>Fiber</th>\n",
       "      <td>-0.0046</td>\n",
       "      <td>0.0086</td>\n",
       "      <td>-0.0055</td>\n",
       "      <td>-0.0061</td>\n",
       "      <td>-0.0147</td>\n",
       "      <td>0.0153</td>\n",
       "      <td>-0.0007</td>\n",
       "      <td>-0.0063</td>\n",
       "      <td>0.0011</td>\n",
       "      <td>0.0115</td>\n",
       "      <td>-0.0156</td>\n",
       "      <td>1.0000</td>\n",
       "      <td>-0.0133</td>\n",
       "      <td>-0.0003</td>\n",
       "      <td>0.0061</td>\n",
       "      <td>0.4757</td>\n",
       "    </tr>\n",
       "    <tr>\n",
       "      <th>Glass Doors</th>\n",
       "      <td>0.0086</td>\n",
       "      <td>-0.0100</td>\n",
       "      <td>-0.0061</td>\n",
       "      <td>-0.0044</td>\n",
       "      <td>0.0077</td>\n",
       "      <td>-0.0157</td>\n",
       "      <td>0.0081</td>\n",
       "      <td>0.0004</td>\n",
       "      <td>-0.0220</td>\n",
       "      <td>-0.0033</td>\n",
       "      <td>0.0016</td>\n",
       "      <td>-0.0133</td>\n",
       "      <td>1.0000</td>\n",
       "      <td>-0.0048</td>\n",
       "      <td>0.0130</td>\n",
       "      <td>0.1739</td>\n",
       "    </tr>\n",
       "    <tr>\n",
       "      <th>Swiming Pool</th>\n",
       "      <td>0.0183</td>\n",
       "      <td>0.0247</td>\n",
       "      <td>-0.0000</td>\n",
       "      <td>-0.0123</td>\n",
       "      <td>-0.0181</td>\n",
       "      <td>0.0036</td>\n",
       "      <td>0.0146</td>\n",
       "      <td>-0.0068</td>\n",
       "      <td>-0.0108</td>\n",
       "      <td>-0.0264</td>\n",
       "      <td>0.0072</td>\n",
       "      <td>-0.0003</td>\n",
       "      <td>-0.0048</td>\n",
       "      <td>1.0000</td>\n",
       "      <td>-0.0259</td>\n",
       "      <td>-0.0136</td>\n",
       "    </tr>\n",
       "    <tr>\n",
       "      <th>Garden</th>\n",
       "      <td>0.0142</td>\n",
       "      <td>-0.0279</td>\n",
       "      <td>0.0156</td>\n",
       "      <td>-0.0135</td>\n",
       "      <td>0.0159</td>\n",
       "      <td>0.0077</td>\n",
       "      <td>-0.0236</td>\n",
       "      <td>-0.0031</td>\n",
       "      <td>0.0017</td>\n",
       "      <td>0.0026</td>\n",
       "      <td>0.0036</td>\n",
       "      <td>0.0061</td>\n",
       "      <td>0.0130</td>\n",
       "      <td>-0.0259</td>\n",
       "      <td>1.0000</td>\n",
       "      <td>0.0130</td>\n",
       "    </tr>\n",
       "    <tr>\n",
       "      <th>Prices</th>\n",
       "      <td>0.1660</td>\n",
       "      <td>0.0839</td>\n",
       "      <td>0.0856</td>\n",
       "      <td>0.1385</td>\n",
       "      <td>0.4346</td>\n",
       "      <td>-0.0593</td>\n",
       "      <td>-0.3748</td>\n",
       "      <td>0.6285</td>\n",
       "      <td>0.2167</td>\n",
       "      <td>0.0118</td>\n",
       "      <td>0.0642</td>\n",
       "      <td>0.4757</td>\n",
       "      <td>0.1739</td>\n",
       "      <td>-0.0136</td>\n",
       "      <td>0.0130</td>\n",
       "      <td>1.0000</td>\n",
       "    </tr>\n",
       "  </tbody>\n",
       "</table>\n",
       "</div>"
      ],
      "text/plain": [
       "                 Area  Garage  FirePlace   Baths  White Marble  Black Marble  \\\n",
       "Area           1.0000 -0.0165     0.0011 -0.0109        0.0054        0.0052   \n",
       "Garage        -0.0165  1.0000     0.0155  0.0109       -0.0257        0.0039   \n",
       "FirePlace      0.0011  0.0155     1.0000 -0.0004        0.0012        0.0048   \n",
       "Baths         -0.0109  0.0109    -0.0004  1.0000        0.0000        0.0021   \n",
       "White Marble   0.0054 -0.0257     0.0012  0.0000        1.0000       -0.5008   \n",
       "Black Marble   0.0052  0.0039     0.0048  0.0021       -0.5008        1.0000   \n",
       "Indian Marble -0.0106  0.0218    -0.0060 -0.0021       -0.4972       -0.5019   \n",
       "Floors         0.0217 -0.0171     0.0016 -0.0007        0.0059        0.0064   \n",
       "City           0.0094  0.0140    -0.0156 -0.0097       -0.0505        0.0322   \n",
       "Solar          0.0148  0.0038    -0.0100  0.0027       -0.0087        0.0204   \n",
       "Electric       0.0090 -0.0010     0.0028 -0.0313        0.0085        0.0097   \n",
       "Fiber         -0.0046  0.0086    -0.0055 -0.0061       -0.0147        0.0153   \n",
       "Glass Doors    0.0086 -0.0100    -0.0061 -0.0044        0.0077       -0.0157   \n",
       "Swiming Pool   0.0183  0.0247    -0.0000 -0.0123       -0.0181        0.0036   \n",
       "Garden         0.0142 -0.0279     0.0156 -0.0135        0.0159        0.0077   \n",
       "Prices         0.1660  0.0839     0.0856  0.1385        0.4346       -0.0593   \n",
       "\n",
       "               Indian Marble  Floors    City   Solar  Electric   Fiber  \\\n",
       "Area                 -0.0106  0.0217  0.0094  0.0148    0.0090 -0.0046   \n",
       "Garage                0.0218 -0.0171  0.0140  0.0038   -0.0010  0.0086   \n",
       "FirePlace            -0.0060  0.0016 -0.0156 -0.0100    0.0028 -0.0055   \n",
       "Baths                -0.0021 -0.0007 -0.0097  0.0027   -0.0313 -0.0061   \n",
       "White Marble         -0.4972  0.0059 -0.0505 -0.0087    0.0085 -0.0147   \n",
       "Black Marble         -0.5019  0.0064  0.0322  0.0204    0.0097  0.0153   \n",
       "Indian Marble         1.0000 -0.0123  0.0182 -0.0117   -0.0183 -0.0007   \n",
       "Floors               -0.0123  1.0000  0.0034 -0.0131    0.0140 -0.0063   \n",
       "City                  0.0182  0.0034  1.0000  0.0069    0.0294  0.0011   \n",
       "Solar                -0.0117 -0.0131  0.0069  1.0000    0.0312  0.0115   \n",
       "Electric             -0.0183  0.0140  0.0294  0.0312    1.0000 -0.0156   \n",
       "Fiber                -0.0007 -0.0063  0.0011  0.0115   -0.0156  1.0000   \n",
       "Glass Doors           0.0081  0.0004 -0.0220 -0.0033    0.0016 -0.0133   \n",
       "Swiming Pool          0.0146 -0.0068 -0.0108 -0.0264    0.0072 -0.0003   \n",
       "Garden               -0.0236 -0.0031  0.0017  0.0026    0.0036  0.0061   \n",
       "Prices               -0.3748  0.6285  0.2167  0.0118    0.0642  0.4757   \n",
       "\n",
       "               Glass Doors  Swiming Pool  Garden  Prices  \n",
       "Area                0.0086        0.0183  0.0142  0.1660  \n",
       "Garage             -0.0100        0.0247 -0.0279  0.0839  \n",
       "FirePlace          -0.0061       -0.0000  0.0156  0.0856  \n",
       "Baths              -0.0044       -0.0123 -0.0135  0.1385  \n",
       "White Marble        0.0077       -0.0181  0.0159  0.4346  \n",
       "Black Marble       -0.0157        0.0036  0.0077 -0.0593  \n",
       "Indian Marble       0.0081        0.0146 -0.0236 -0.3748  \n",
       "Floors              0.0004       -0.0068 -0.0031  0.6285  \n",
       "City               -0.0220       -0.0108  0.0017  0.2167  \n",
       "Solar              -0.0033       -0.0264  0.0026  0.0118  \n",
       "Electric            0.0016        0.0072  0.0036  0.0642  \n",
       "Fiber              -0.0133       -0.0003  0.0061  0.4757  \n",
       "Glass Doors         1.0000       -0.0048  0.0130  0.1739  \n",
       "Swiming Pool       -0.0048        1.0000 -0.0259 -0.0136  \n",
       "Garden              0.0130       -0.0259  1.0000  0.0130  \n",
       "Prices              0.1739       -0.0136  0.0130  1.0000  "
      ]
     },
     "execution_count": 7,
     "metadata": {},
     "output_type": "execute_result"
    }
   ],
   "source": [
    "df.corr().round(4)"
   ]
  },
  {
   "cell_type": "markdown",
   "metadata": {},
   "source": [
    "### Observações:\n",
    "\n",
    "As variáveis \"White Marble, \"Indian Marble\", \"Floors\", \"Fiber\" são as que possuem maiores correlações com \"Prices\"\n",
    "* \"White Marble\" -> 0.43\n",
    "* \"Indian Marble\" -> -0.37\n",
    "* \"Floors\" -> 0.63\n",
    "* \"Fiber\" -> 0.48"
   ]
  },
  {
   "cell_type": "markdown",
   "metadata": {},
   "source": [
    "# <font color='red' style='font-size: 30px;'>Comportamento da Variável Dependente (Y)</font>\n",
    "<hr style='border: 2px solid red;'>"
   ]
  },
  {
   "cell_type": "markdown",
   "metadata": {},
   "source": [
    "# Análises gráficas"
   ]
  },
  {
   "cell_type": "code",
   "execution_count": 8,
   "metadata": {},
   "outputs": [],
   "source": [
    "# estilo dos gráficos\n",
    "sns.set_style(\"darkgrid\")"
   ]
  },
  {
   "cell_type": "markdown",
   "metadata": {},
   "source": [
    "## Box plot da variável *dependente* (y)"
   ]
  },
  {
   "cell_type": "code",
   "execution_count": 9,
   "metadata": {},
   "outputs": [
    {
     "data": {
      "text/plain": [
       "<Axes: title={'center': 'Preço dos Imóveis'}, ylabel='$'>"
      ]
     },
     "execution_count": 9,
     "metadata": {},
     "output_type": "execute_result"
    },
    {
     "data": {
      "image/png": "[encoded data removed]",
      "text/plain": [
       "<Figure size 1200x600 with 1 Axes>"
      ]
     },
     "metadata": {},
     "output_type": "display_data"
    }
   ],
   "source": [
    "ax = sns.boxplot(df.Prices, orient='v', width=0.2)\n",
    "ax.figure.set_size_inches(12, 6)\n",
    "ax.set_title('Preço dos Imóveis', fontsize=20)\n",
    "ax.set_ylabel('$', fontsize=16)\n",
    "ax"
   ]
  },
  {
   "cell_type": "markdown",
   "metadata": {},
   "source": [
    "# Investigando a variável *dependente* (y) juntamente com outras característica"
   ]
  },
  {
   "cell_type": "markdown",
   "metadata": {},
   "source": [
    "### Box-plot (Preço X Acabamento em Mármore Branco)"
   ]
  },
  {
   "cell_type": "code",
   "execution_count": 10,
   "metadata": {},
   "outputs": [
    {
     "data": {
      "text/plain": [
       "<Axes: title={'center': 'Preço dos Imóveis'}, xlabel='Acabamento em Mámore Branco', ylabel='$'>"
      ]
     },
     "execution_count": 10,
     "metadata": {},
     "output_type": "execute_result"
    },
    {
     "data": {
      "image/png": "[encoded data removed]",
      "text/plain": [
       "<Figure size 1200x600 with 1 Axes>"
      ]
     },
     "metadata": {},
     "output_type": "display_data"
    }
   ],
   "source": [
    "ax = sns.boxplot(y='Prices', x='White Marble', data=df, orient='v', width=0.5)\n",
    "ax.figure.set_size_inches(12, 6)\n",
    "ax.set_title('Preço dos Imóveis', fontsize=20)\n",
    "ax.set_ylabel('$', fontsize=16)\n",
    "ax.set_xlabel('Acabamento em Mámore Branco', fontsize=16)\n",
    "ax"
   ]
  },
  {
   "cell_type": "markdown",
   "metadata": {},
   "source": [
    "### Box-plot (Preço X Acabamento em Mármore Indiano)"
   ]
  },
  {
   "cell_type": "code",
   "execution_count": 11,
   "metadata": {},
   "outputs": [
    {
     "data": {
      "text/plain": [
       "<Axes: title={'center': 'Preço dos Imóveis'}, xlabel='Acabamento em Mámore Indiano', ylabel='$'>"
      ]
     },
     "execution_count": 11,
     "metadata": {},
     "output_type": "execute_result"
    },
    {
     "data": {
      "image/png": "[encoded data removed]",
      "text/plain": [
       "<Figure size 1200x600 with 1 Axes>"
      ]
     },
     "metadata": {},
     "output_type": "display_data"
    }
   ],
   "source": [
    "ax = sns.boxplot(y='Prices', x='Indian Marble', data=df, orient='v', width=0.5)\n",
    "ax.figure.set_size_inches(12, 6)\n",
    "ax.set_title('Preço dos Imóveis', fontsize=20)\n",
    "ax.set_ylabel('$', fontsize=16)\n",
    "ax.set_xlabel('Acabamento em Mámore Indiano', fontsize=16)\n",
    "ax"
   ]
  },
  {
   "cell_type": "markdown",
   "metadata": {},
   "source": [
    "### Box-plot (Preço X Andares)"
   ]
  },
  {
   "cell_type": "code",
   "execution_count": 12,
   "metadata": {},
   "outputs": [
    {
     "data": {
      "text/plain": [
       "<Axes: title={'center': 'Preço dos Imóveis'}, xlabel='Mais de um Andar', ylabel='$'>"
      ]
     },
     "execution_count": 12,
     "metadata": {},
     "output_type": "execute_result"
    },
    {
     "data": {
      "image/png": "[encoded data removed]",
      "text/plain": [
       "<Figure size 1200x600 with 1 Axes>"
      ]
     },
     "metadata": {},
     "output_type": "display_data"
    }
   ],
   "source": [
    "ax = sns.boxplot(y='Prices', x='Floors', data=df, orient='v', width=0.5)\n",
    "ax.figure.set_size_inches(12, 6)\n",
    "ax.set_title('Preço dos Imóveis', fontsize=20)\n",
    "ax.set_ylabel('$', fontsize=16)\n",
    "ax.set_xlabel('Mais de um Andar', fontsize=16)\n",
    "ax"
   ]
  },
  {
   "cell_type": "markdown",
   "metadata": {},
   "source": [
    "### Box-plot (Preço X Fibra Óptica)"
   ]
  },
  {
   "cell_type": "code",
   "execution_count": 13,
   "metadata": {},
   "outputs": [
    {
     "data": {
      "text/plain": [
       "<Axes: title={'center': 'Preço dos Imóveis'}, xlabel='Fibra Óptica', ylabel='$'>"
      ]
     },
     "execution_count": 13,
     "metadata": {},
     "output_type": "execute_result"
    },
    {
     "data": {
      "image/png": "[encoded data removed]",
      "text/plain": [
       "<Figure size 1200x600 with 1 Axes>"
      ]
     },
     "metadata": {},
     "output_type": "display_data"
    }
   ],
   "source": [
    "ax = sns.boxplot(y='Prices', x='Fiber', data=df, orient='v', width=0.5)\n",
    "ax.figure.set_size_inches(12, 6)\n",
    "ax.set_title('Preço dos Imóveis', fontsize=20)\n",
    "ax.set_ylabel('$', fontsize=16)\n",
    "ax.set_xlabel('Fibra Óptica', fontsize=16)\n",
    "ax"
   ]
  },
  {
   "cell_type": "markdown",
   "metadata": {},
   "source": [
    "# Distribuição de frequências da variável *dependente* (Prices)\n"
   ]
  },
  {
   "cell_type": "code",
   "execution_count": 14,
   "metadata": {},
   "outputs": [
    {
     "data": {
      "text/plain": [
       "<Axes: title={'center': 'Histograma de Preços'}, xlabel='$', ylabel='Frequência'>"
      ]
     },
     "execution_count": 14,
     "metadata": {},
     "output_type": "execute_result"
    },
    {
     "data": {
      "image/png": "[encoded data removed]",
      "text/plain": [
       "<Figure size 1200x600 with 1 Axes>"
      ]
     },
     "metadata": {},
     "output_type": "display_data"
    }
   ],
   "source": [
    "ax = sns.histplot(df.Prices, kde=True)\n",
    "ax.figure.set_size_inches(12,6)\n",
    "ax.set_title('Histograma de Preços', fontsize=20)\n",
    "ax.set_ylabel('Frequência', fontsize=16)\n",
    "ax.set_xlabel('$', fontsize=16)\n",
    "ax"
   ]
  },
  {
   "cell_type": "markdown",
   "metadata": {},
   "source": [
    "### Distribuição Normal"
   ]
  },
  {
   "cell_type": "code",
   "execution_count": 15,
   "metadata": {},
   "outputs": [
    {
     "name": "stdout",
     "output_type": "stream",
     "text": [
      "A série de preços não segue uma distribuição normal (rejeitamos a hipótese nula)\n"
     ]
    }
   ],
   "source": [
    "import scipy.stats as stats\n",
    "\n",
    "# Suponha que 'df.Prices' seja a sua série de preços\n",
    "prices = df.Prices\n",
    "\n",
    "# Realiza o teste de Shapiro-Wilk\n",
    "statistic, p_value = stats.shapiro(prices)\n",
    "\n",
    "# Define um nível de significância (alfa)\n",
    "alpha = 0.05\n",
    "\n",
    "# Compara o valor-p ao nível de significância\n",
    "if p_value > alpha:\n",
    "    print(\"A série de preços parece seguir uma distribuição normal (não podemos rejeitar a hipótese nula)\")\n",
    "else:\n",
    "    print(\"A série de preços não segue uma distribuição normal (rejeitamos a hipótese nula)\")"
   ]
  },
  {
   "cell_type": "markdown",
   "metadata": {},
   "source": [
    "## Gráficos de dispersão entre as variáveis do dataset"
   ]
  },
  {
   "cell_type": "markdown",
   "metadata": {},
   "source": [
    "## Dispersão entre as variáveis mais relevantes"
   ]
  },
  {
   "cell_type": "code",
   "execution_count": 16,
   "metadata": {},
   "outputs": [
    {
     "data": {
      "text/plain": [
       "<seaborn.axisgrid.PairGrid at 0x22dde213150>"
      ]
     },
     "execution_count": 16,
     "metadata": {},
     "output_type": "execute_result"
    },
    {
     "data": {
      "image/png": "[encoded data removed]",
      "text/plain": [
       "<Figure size 1250x250 with 5 Axes>"
      ]
     },
     "metadata": {},
     "output_type": "display_data"
    }
   ],
   "source": [
    "ax = sns.pairplot(df, y_vars='Prices', x_vars=['Baths', 'Floors', 'City', 'Fiber', 'Glass Doors'])\n",
    "ax.fig.suptitle('Dispersão entre as Variáveis', fontsize=20, y=1.05)\n",
    "ax"
   ]
  },
  {
   "cell_type": "code",
   "execution_count": 17,
   "metadata": {},
   "outputs": [
    {
     "data": {
      "text/plain": [
       "<seaborn.axisgrid.PairGrid at 0x22ddf999150>"
      ]
     },
     "execution_count": 17,
     "metadata": {},
     "output_type": "execute_result"
    },
    {
     "data": {
      "image/png": "[encoded data removed]",
      "text/plain": [
       "<Figure size 750x250 with 3 Axes>"
      ]
     },
     "metadata": {},
     "output_type": "display_data"
    }
   ],
   "source": [
    "# MÁRMORES\n",
    "ax = sns.pairplot(df, y_vars='Prices', x_vars=['White Marble',\n",
    "       'Black Marble', 'Indian Marble'], kind='reg')\n",
    "ax.fig.suptitle('Dispersão entre Variáveis (Mármores)', fontsize=20, y=1.05)\n",
    "ax"
   ]
  },
  {
   "cell_type": "markdown",
   "metadata": {},
   "source": [
    "# <font color='red' style='font-size: 30px;'>Estimando um Modelo de Regressão Linear</font>\n",
    "<hr style='border: 2px solid red;'>"
   ]
  },
  {
   "cell_type": "code",
   "execution_count": 18,
   "metadata": {},
   "outputs": [],
   "source": [
    "from sklearn.model_selection import train_test_split"
   ]
  },
  {
   "cell_type": "markdown",
   "metadata": {},
   "source": [
    "## Variável dependente (y)"
   ]
  },
  {
   "cell_type": "code",
   "execution_count": 19,
   "metadata": {},
   "outputs": [
    {
     "data": {
      "text/plain": [
       "0    50575\n",
       "1    64575\n",
       "2    55175\n",
       "3    38150\n",
       "4    31150\n",
       "Name: Prices, dtype: int64"
      ]
     },
     "execution_count": 19,
     "metadata": {},
     "output_type": "execute_result"
    }
   ],
   "source": [
    "y = df.Prices\n",
    "y.head()"
   ]
  },
  {
   "cell_type": "markdown",
   "metadata": {},
   "source": [
    "## Variáveis explicativas (X)"
   ]
  },
  {
   "cell_type": "code",
   "execution_count": 20,
   "metadata": {},
   "outputs": [],
   "source": [
    "nomes_X = [col for col in df.columns if col != \"Prices\"]"
   ]
  },
  {
   "cell_type": "code",
   "execution_count": 21,
   "metadata": {},
   "outputs": [
    {
     "data": {
      "text/html": [
       "<div>\n",
       "<style scoped>\n",
       "    .dataframe tbody tr th:only-of-type {\n",
       "        vertical-align: middle;\n",
       "    }\n",
       "\n",
       "    .dataframe tbody tr th {\n",
       "        vertical-align: top;\n",
       "    }\n",
       "\n",
       "    .dataframe thead th {\n",
       "        text-align: right;\n",
       "    }\n",
       "</style>\n",
       "<table border=\"1\" class=\"dataframe\">\n",
       "  <thead>\n",
       "    <tr style=\"text-align: right;\">\n",
       "      <th></th>\n",
       "      <th>Area</th>\n",
       "      <th>Garage</th>\n",
       "      <th>FirePlace</th>\n",
       "      <th>Baths</th>\n",
       "      <th>White Marble</th>\n",
       "      <th>Black Marble</th>\n",
       "      <th>Indian Marble</th>\n",
       "      <th>Floors</th>\n",
       "      <th>City</th>\n",
       "      <th>Solar</th>\n",
       "      <th>Electric</th>\n",
       "      <th>Fiber</th>\n",
       "      <th>Glass Doors</th>\n",
       "      <th>Swiming Pool</th>\n",
       "      <th>Garden</th>\n",
       "    </tr>\n",
       "  </thead>\n",
       "  <tbody>\n",
       "    <tr>\n",
       "      <th>0</th>\n",
       "      <td>113</td>\n",
       "      <td>2</td>\n",
       "      <td>2</td>\n",
       "      <td>1</td>\n",
       "      <td>1</td>\n",
       "      <td>0</td>\n",
       "      <td>0</td>\n",
       "      <td>1</td>\n",
       "      <td>3</td>\n",
       "      <td>1</td>\n",
       "      <td>1</td>\n",
       "      <td>0</td>\n",
       "      <td>0</td>\n",
       "      <td>1</td>\n",
       "      <td>0</td>\n",
       "    </tr>\n",
       "    <tr>\n",
       "      <th>1</th>\n",
       "      <td>55</td>\n",
       "      <td>3</td>\n",
       "      <td>4</td>\n",
       "      <td>2</td>\n",
       "      <td>1</td>\n",
       "      <td>0</td>\n",
       "      <td>0</td>\n",
       "      <td>1</td>\n",
       "      <td>2</td>\n",
       "      <td>0</td>\n",
       "      <td>0</td>\n",
       "      <td>1</td>\n",
       "      <td>1</td>\n",
       "      <td>0</td>\n",
       "      <td>0</td>\n",
       "    </tr>\n",
       "    <tr>\n",
       "      <th>2</th>\n",
       "      <td>19</td>\n",
       "      <td>2</td>\n",
       "      <td>3</td>\n",
       "      <td>4</td>\n",
       "      <td>0</td>\n",
       "      <td>1</td>\n",
       "      <td>0</td>\n",
       "      <td>1</td>\n",
       "      <td>2</td>\n",
       "      <td>1</td>\n",
       "      <td>0</td>\n",
       "      <td>1</td>\n",
       "      <td>1</td>\n",
       "      <td>1</td>\n",
       "      <td>1</td>\n",
       "    </tr>\n",
       "    <tr>\n",
       "      <th>3</th>\n",
       "      <td>206</td>\n",
       "      <td>3</td>\n",
       "      <td>2</td>\n",
       "      <td>2</td>\n",
       "      <td>0</td>\n",
       "      <td>1</td>\n",
       "      <td>0</td>\n",
       "      <td>1</td>\n",
       "      <td>1</td>\n",
       "      <td>0</td>\n",
       "      <td>0</td>\n",
       "      <td>0</td>\n",
       "      <td>0</td>\n",
       "      <td>0</td>\n",
       "      <td>1</td>\n",
       "    </tr>\n",
       "    <tr>\n",
       "      <th>4</th>\n",
       "      <td>158</td>\n",
       "      <td>3</td>\n",
       "      <td>3</td>\n",
       "      <td>5</td>\n",
       "      <td>0</td>\n",
       "      <td>1</td>\n",
       "      <td>0</td>\n",
       "      <td>0</td>\n",
       "      <td>1</td>\n",
       "      <td>1</td>\n",
       "      <td>0</td>\n",
       "      <td>0</td>\n",
       "      <td>1</td>\n",
       "      <td>0</td>\n",
       "      <td>1</td>\n",
       "    </tr>\n",
       "  </tbody>\n",
       "</table>\n",
       "</div>"
      ],
      "text/plain": [
       "   Area  Garage  FirePlace  Baths  White Marble  Black Marble  Indian Marble  \\\n",
       "0   113       2          2      1             1             0              0   \n",
       "1    55       3          4      2             1             0              0   \n",
       "2    19       2          3      4             0             1              0   \n",
       "3   206       3          2      2             0             1              0   \n",
       "4   158       3          3      5             0             1              0   \n",
       "\n",
       "   Floors  City  Solar  Electric  Fiber  Glass Doors  Swiming Pool  Garden  \n",
       "0       1     3      1         1      0            0             1       0  \n",
       "1       1     2      0         0      1            1             0       0  \n",
       "2       1     2      1         0      1            1             1       1  \n",
       "3       1     1      0         0      0            0             0       1  \n",
       "4       0     1      1         0      0            1             0       1  "
      ]
     },
     "execution_count": 21,
     "metadata": {},
     "output_type": "execute_result"
    }
   ],
   "source": [
    "X = df[nomes_X]\n",
    "X.head()"
   ]
  },
  {
   "cell_type": "markdown",
   "metadata": {},
   "source": [
    "## Datasets de treino e de teste"
   ]
  },
  {
   "cell_type": "code",
   "execution_count": 22,
   "metadata": {},
   "outputs": [],
   "source": [
    "X_train, X_test, y_train, y_test = train_test_split(X, y, test_size=0.33, random_state=2811)"
   ]
  },
  {
   "cell_type": "markdown",
   "metadata": {},
   "source": [
    "## Instanciando a classe *LinearRegression()*"
   ]
  },
  {
   "cell_type": "code",
   "execution_count": 23,
   "metadata": {},
   "outputs": [],
   "source": [
    "from sklearn.linear_model import LinearRegression\n",
    "from sklearn import metrics"
   ]
  },
  {
   "cell_type": "code",
   "execution_count": 24,
   "metadata": {},
   "outputs": [],
   "source": [
    "modelo = LinearRegression()"
   ]
  },
  {
   "cell_type": "markdown",
   "metadata": {},
   "source": [
    "## Estimando o modelo linear"
   ]
  },
  {
   "cell_type": "code",
   "execution_count": 25,
   "metadata": {},
   "outputs": [
    {
     "data": {
      "text/html": [
       "<style>#sk-container-id-1 {color: black;}#sk-container-id-1 pre{padding: 0;}#sk-container-id-1 div.sk-toggleable {background-color: white;}#sk-container-id-1 label.sk-toggleable__label {cursor: pointer;display: block;width: 100%;margin-bottom: 0;padding: 0.3em;box-sizing: border-box;text-align: center;}#sk-container-id-1 label.sk-toggleable__label-arrow:before {content: \"▸\";float: left;margin-right: 0.25em;color: #696969;}#sk-container-id-1 label.sk-toggleable__label-arrow:hover:before {color: black;}#sk-container-id-1 div.sk-estimator:hover label.sk-toggleable__label-arrow:before {color: black;}#sk-container-id-1 div.sk-toggleable__content {max-height: 0;max-width: 0;overflow: hidden;text-align: left;background-color: #f0f8ff;}#sk-container-id-1 div.sk-toggleable__content pre {margin: 0.2em;color: black;border-radius: 0.25em;background-color: #f0f8ff;}#sk-container-id-1 input.sk-toggleable__control:checked~div.sk-toggleable__content {max-height: 200px;max-width: 100%;overflow: auto;}#sk-container-id-1 input.sk-toggleable__control:checked~label.sk-toggleable__label-arrow:before {content: \"▾\";}#sk-container-id-1 div.sk-estimator input.sk-toggleable__control:checked~label.sk-toggleable__label {background-color: #d4ebff;}#sk-container-id-1 div.sk-label input.sk-toggleable__control:checked~label.sk-toggleable__label {background-color: #d4ebff;}#sk-container-id-1 input.sk-hidden--visually {border: 0;clip: rect(1px 1px 1px 1px);clip: rect(1px, 1px, 1px, 1px);height: 1px;margin: -1px;overflow: hidden;padding: 0;position: absolute;width: 1px;}#sk-container-id-1 div.sk-estimator {font-family: monospace;background-color: #f0f8ff;border: 1px dotted black;border-radius: 0.25em;box-sizing: border-box;margin-bottom: 0.5em;}#sk-container-id-1 div.sk-estimator:hover {background-color: #d4ebff;}#sk-container-id-1 div.sk-parallel-item::after {content: \"\";width: 100%;border-bottom: 1px solid gray;flex-grow: 1;}#sk-container-id-1 div.sk-label:hover label.sk-toggleable__label {background-color: #d4ebff;}#sk-container-id-1 div.sk-serial::before {content: \"\";position: absolute;border-left: 1px solid gray;box-sizing: border-box;top: 0;bottom: 0;left: 50%;z-index: 0;}#sk-container-id-1 div.sk-serial {display: flex;flex-direction: column;align-items: center;background-color: white;padding-right: 0.2em;padding-left: 0.2em;position: relative;}#sk-container-id-1 div.sk-item {position: relative;z-index: 1;}#sk-container-id-1 div.sk-parallel {display: flex;align-items: stretch;justify-content: center;background-color: white;position: relative;}#sk-container-id-1 div.sk-item::before, #sk-container-id-1 div.sk-parallel-item::before {content: \"\";position: absolute;border-left: 1px solid gray;box-sizing: border-box;top: 0;bottom: 0;left: 50%;z-index: -1;}#sk-container-id-1 div.sk-parallel-item {display: flex;flex-direction: column;z-index: 1;position: relative;background-color: white;}#sk-container-id-1 div.sk-parallel-item:first-child::after {align-self: flex-end;width: 50%;}#sk-container-id-1 div.sk-parallel-item:last-child::after {align-self: flex-start;width: 50%;}#sk-container-id-1 div.sk-parallel-item:only-child::after {width: 0;}#sk-container-id-1 div.sk-dashed-wrapped {border: 1px dashed gray;margin: 0 0.4em 0.5em 0.4em;box-sizing: border-box;padding-bottom: 0.4em;background-color: white;}#sk-container-id-1 div.sk-label label {font-family: monospace;font-weight: bold;display: inline-block;line-height: 1.2em;}#sk-container-id-1 div.sk-label-container {text-align: center;}#sk-container-id-1 div.sk-container {/* jupyter's `normalize.less` sets `[hidden] { display: none; }` but bootstrap.min.css set `[hidden] { display: none !important; }` so we also need the `!important` here to be able to override the default hidden behavior on the sphinx rendered scikit-learn.org. See: https://github.com/scikit-learn/scikit-learn/issues/21755 */display: inline-block !important;position: relative;}#sk-container-id-1 div.sk-text-repr-fallback {display: none;}</style><div id=\"sk-container-id-1\" class=\"sk-top-container\"><div class=\"sk-text-repr-fallback\"><pre>LinearRegression()</pre><b>In a Jupyter environment, please rerun this cell to show the HTML representation or trust the notebook. <br />On GitHub, the HTML representation is unable to render, please try loading this page with nbviewer.org.</b></div><div class=\"sk-container\" hidden><div class=\"sk-item\"><div class=\"sk-estimator sk-toggleable\"><input class=\"sk-toggleable__control sk-hidden--visually\" id=\"sk-estimator-id-1\" type=\"checkbox\" checked><label for=\"sk-estimator-id-1\" class=\"sk-toggleable__label sk-toggleable__label-arrow\">LinearRegression</label><div class=\"sk-toggleable__content\"><pre>LinearRegression()</pre></div></div></div></div></div>"
      ],
      "text/plain": [
       "LinearRegression()"
      ]
     },
     "execution_count": 25,
     "metadata": {},
     "output_type": "execute_result"
    }
   ],
   "source": [
    "modelo.fit(X_train, y_train)"
   ]
  },
  {
   "cell_type": "markdown",
   "metadata": {},
   "source": [
    "## Coeficiente de determinação (R²) do modelo estimado com os dados de Treino"
   ]
  },
  {
   "cell_type": "code",
   "execution_count": 26,
   "metadata": {},
   "outputs": [
    {
     "name": "stdout",
     "output_type": "stream",
     "text": [
      "R² = 1.0\n"
     ]
    }
   ],
   "source": [
    "print(f'R² = {(modelo.score(X_train, y_train).round(2))}')"
   ]
  },
  {
   "cell_type": "markdown",
   "metadata": {},
   "source": [
    "## Previsões para os dados de Teste"
   ]
  },
  {
   "cell_type": "code",
   "execution_count": 27,
   "metadata": {},
   "outputs": [],
   "source": [
    "y_previsto = modelo.predict(X_test)"
   ]
  },
  {
   "cell_type": "markdown",
   "metadata": {},
   "source": [
    "## Coeficiente de determinação (R²) para as previsões do modelo"
   ]
  },
  {
   "cell_type": "code",
   "execution_count": 28,
   "metadata": {},
   "outputs": [
    {
     "name": "stdout",
     "output_type": "stream",
     "text": [
      "R² = 1.0\n"
     ]
    }
   ],
   "source": [
    "print(f'R² = {metrics.r2_score(y_test, y_previsto).round(2)}')"
   ]
  },
  {
   "cell_type": "markdown",
   "metadata": {},
   "source": [
    "# <font color='red' style='font-size: 30px;'>Obtendo Previsões Pontuais</font>\n",
    "<hr style='border: 2px solid red;'>"
   ]
  },
  {
   "cell_type": "markdown",
   "metadata": {},
   "source": [
    "## Teste"
   ]
  },
  {
   "cell_type": "code",
   "execution_count": 29,
   "metadata": {
    "scrolled": false
   },
   "outputs": [
    {
     "data": {
      "text/html": [
       "<div>\n",
       "<style scoped>\n",
       "    .dataframe tbody tr th:only-of-type {\n",
       "        vertical-align: middle;\n",
       "    }\n",
       "\n",
       "    .dataframe tbody tr th {\n",
       "        vertical-align: top;\n",
       "    }\n",
       "\n",
       "    .dataframe thead th {\n",
       "        text-align: right;\n",
       "    }\n",
       "</style>\n",
       "<table border=\"1\" class=\"dataframe\">\n",
       "  <thead>\n",
       "    <tr style=\"text-align: right;\">\n",
       "      <th></th>\n",
       "      <th>Area</th>\n",
       "      <th>Garage</th>\n",
       "      <th>FirePlace</th>\n",
       "      <th>Baths</th>\n",
       "      <th>White Marble</th>\n",
       "      <th>Black Marble</th>\n",
       "      <th>Indian Marble</th>\n",
       "      <th>Floors</th>\n",
       "      <th>City</th>\n",
       "      <th>Solar</th>\n",
       "      <th>Electric</th>\n",
       "      <th>Fiber</th>\n",
       "      <th>Glass Doors</th>\n",
       "      <th>Swiming Pool</th>\n",
       "      <th>Garden</th>\n",
       "    </tr>\n",
       "  </thead>\n",
       "  <tbody>\n",
       "    <tr>\n",
       "      <th>1006</th>\n",
       "      <td>131</td>\n",
       "      <td>2</td>\n",
       "      <td>0</td>\n",
       "      <td>4</td>\n",
       "      <td>0</td>\n",
       "      <td>0</td>\n",
       "      <td>1</td>\n",
       "      <td>1</td>\n",
       "      <td>1</td>\n",
       "      <td>0</td>\n",
       "      <td>1</td>\n",
       "      <td>0</td>\n",
       "      <td>1</td>\n",
       "      <td>1</td>\n",
       "      <td>1</td>\n",
       "    </tr>\n",
       "  </tbody>\n",
       "</table>\n",
       "</div>"
      ],
      "text/plain": [
       "      Area  Garage  FirePlace  Baths  White Marble  Black Marble  \\\n",
       "1006   131       2          0      4             0             0   \n",
       "\n",
       "      Indian Marble  Floors  City  Solar  Electric  Fiber  Glass Doors  \\\n",
       "1006              1       1     1      0         1      0            1   \n",
       "\n",
       "      Swiming Pool  Garden  \n",
       "1006             1       1  "
      ]
     },
     "execution_count": 29,
     "metadata": {},
     "output_type": "execute_result"
    }
   ],
   "source": [
    "X_test[0:1]"
   ]
  },
  {
   "cell_type": "code",
   "execution_count": 30,
   "metadata": {
    "scrolled": true
   },
   "outputs": [
    {
     "data": {
      "text/plain": [
       "36474.999999999985"
      ]
     },
     "execution_count": 30,
     "metadata": {},
     "output_type": "execute_result"
    }
   ],
   "source": [
    "entrada = X_test[0:1]\n",
    "modelo.predict(entrada)[0]"
   ]
  },
  {
   "cell_type": "code",
   "execution_count": 31,
   "metadata": {},
   "outputs": [
    {
     "data": {
      "text/plain": [
       "36475"
      ]
     },
     "execution_count": 31,
     "metadata": {},
     "output_type": "execute_result"
    }
   ],
   "source": [
    "df.loc[1006].Prices"
   ]
  },
  {
   "cell_type": "markdown",
   "metadata": {},
   "source": [
    "## Criando um simulador"
   ]
  },
  {
   "cell_type": "code",
   "execution_count": 32,
   "metadata": {},
   "outputs": [
    {
     "name": "stdout",
     "output_type": "stream",
     "text": [
      "$ 36475.0\n"
     ]
    }
   ],
   "source": [
    "Area = 131\n",
    "Garage = 2\n",
    "FirePlace = 0\n",
    "Baths = 4\n",
    "White_Marble = 0\n",
    "Black_Marble = 0\n",
    "Indian_Marble = 1\n",
    "Floors = 1\n",
    "City = 1\n",
    "Solar = 0\n",
    "Electric = 1\n",
    "Fiber = 0\n",
    "Glass_Doors = 1\n",
    "Swiming_Pool = 1\n",
    "Garden = 1\n",
    "\n",
    "entrada = [[Area,Garage,FirePlace,Baths,White_Marble,Black_Marble,Indian_Marble,Floors,City,Solar,Electric,Fiber,Glass_Doors,Swiming_Pool,Garden]]\n",
    "\n",
    "print(f'$ {modelo.predict(entrada)[0].round(2)}')"
   ]
  },
  {
   "cell_type": "markdown",
   "metadata": {},
   "source": [
    "# <font color='red' style='font-size: 30px;'>Métricas de Regressão</font>\n",
    "<hr style='border: 2px solid red;'>"
   ]
  },
  {
   "cell_type": "markdown",
   "metadata": {},
   "source": [
    "## Obtendo métricas para o modelo com Temperatura Máxima"
   ]
  },
  {
   "cell_type": "code",
   "execution_count": 33,
   "metadata": {},
   "outputs": [
    {
     "data": {
      "text/html": [
       "<div>\n",
       "<style scoped>\n",
       "    .dataframe tbody tr th:only-of-type {\n",
       "        vertical-align: middle;\n",
       "    }\n",
       "\n",
       "    .dataframe tbody tr th {\n",
       "        vertical-align: top;\n",
       "    }\n",
       "\n",
       "    .dataframe thead th {\n",
       "        text-align: right;\n",
       "    }\n",
       "</style>\n",
       "<table border=\"1\" class=\"dataframe\">\n",
       "  <thead>\n",
       "    <tr style=\"text-align: right;\">\n",
       "      <th></th>\n",
       "      <th>Métricas</th>\n",
       "    </tr>\n",
       "  </thead>\n",
       "  <tbody>\n",
       "    <tr>\n",
       "      <th>EQM</th>\n",
       "      <td>0.0</td>\n",
       "    </tr>\n",
       "    <tr>\n",
       "      <th>REQM</th>\n",
       "      <td>0.0</td>\n",
       "    </tr>\n",
       "    <tr>\n",
       "      <th>R²</th>\n",
       "      <td>1.0</td>\n",
       "    </tr>\n",
       "  </tbody>\n",
       "</table>\n",
       "</div>"
      ],
      "text/plain": [
       "      Métricas\n",
       "EQM        0.0\n",
       "REQM       0.0\n",
       "R²         1.0"
      ]
     },
     "execution_count": 33,
     "metadata": {},
     "output_type": "execute_result"
    }
   ],
   "source": [
    "EQM = metrics.mean_squared_error(y_test, y_previsto).round(2)\n",
    "REQM = np.sqrt(EQM).round(2)\n",
    "R2 = metrics.r2_score(y_test, y_previsto).round(2)\n",
    "\n",
    "pd.DataFrame([EQM, REQM, R2], ['EQM', 'REQM', 'R²'], columns=['Métricas'])"
   ]
  },
  {
   "cell_type": "markdown",
   "metadata": {},
   "source": [
    "# <font color='red' style='font-size: 30px;'>Salvando e Carregando o Modelo Estimado</font>\n",
    "<hr style='border: 2px solid red;'>"
   ]
  },
  {
   "cell_type": "markdown",
   "metadata": {},
   "source": [
    "## Importando a biblioteca pickle"
   ]
  },
  {
   "cell_type": "code",
   "execution_count": 34,
   "metadata": {},
   "outputs": [],
   "source": [
    "import pickle"
   ]
  },
  {
   "cell_type": "markdown",
   "metadata": {},
   "source": [
    "## Salvando o modelo estimado"
   ]
  },
  {
   "cell_type": "code",
   "execution_count": 35,
   "metadata": {},
   "outputs": [],
   "source": [
    "output = open('modelo_preco', 'wb')\n",
    "pickle.dump(modelo, output)\n",
    "output.close()"
   ]
  },
  {
   "cell_type": "markdown",
   "metadata": {},
   "source": [
    "### Em um novo notebook/projeto Python\n",
    "\n",
    "<h4 style='color: blue; font-weight: normal'>In [1]:</h4>\n",
    "\n",
    "```sh\n",
    "import pickle\n",
    "\n",
    "modelo = open('modelo_preço','rb')\n",
    "lm_new = pickle.load(modelo)\n",
    "modelo.close()\n",
    "\n",
    "Area = 131\n",
    "Garage = 2\n",
    "FirePlace = 0\n",
    "Baths = 4\n",
    "White_Marble = 0\n",
    "Black_Marble = 0\n",
    "Indian_Marble = 1\n",
    "Floors = 1\n",
    "City = 1\n",
    "Solar = 0\n",
    "Electric = 1\n",
    "Fiber = 0\n",
    "Glass_Doors = 1\n",
    "Swiming_Pool = 1\n",
    "Garden = 1\n",
    "\n",
    "entrada = [[Area,Garage,FirePlace,Baths,White_Marble,Black_Marble,Indian_Marble,Floors,City,Solar,Electric,Fiber,Glass_Doors,Swiming_Pool,Garden]]\n",
    "\n",
    "print(f'$ {modelo.predict(entrada)[0].round(2)}')\n",
    "```"
   ]
  },
  {
   "cell_type": "markdown",
   "metadata": {},
   "source": [
    " "
   ]
  }
 ],
 "metadata": {
  "kernelspec": {
   "display_name": "Python 3 (ipykernel)",
   "language": "python",
   "name": "python3"
  },
  "language_info": {
   "codemirror_mode": {
    "name": "ipython",
    "version": 3
   },
   "file_extension": ".py",
   "mimetype": "text/x-python",
   "name": "python",
   "nbconvert_exporter": "python",
   "pygments_lexer": "ipython3",
   "version": "3.11.4"
  }
 },
 "nbformat": 4,
 "nbformat_minor": 2
}
