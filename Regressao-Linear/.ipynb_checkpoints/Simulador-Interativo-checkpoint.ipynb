{
 "cells": [
  {
   "cell_type": "markdown",
   "metadata": {},
   "source": [
    "<h1 style='color: green; font-size: 36px; font-weight: bold;'>Simulador Interativo</h1>"
   ]
  },
  {
   "cell_type": "code",
   "execution_count": 1,
   "metadata": {},
   "outputs": [],
   "source": [
    "import warnings\n",
    "warnings.filterwarnings('ignore', category=UserWarning, module='sklearn')"
   ]
  },
  {
   "cell_type": "markdown",
   "metadata": {},
   "source": [
    "## Importando modelo"
   ]
  },
  {
   "cell_type": "code",
   "execution_count": 2,
   "metadata": {},
   "outputs": [
    {
     "name": "stdout",
     "output_type": "stream",
     "text": [
      "$ 36475.0\n"
     ]
    }
   ],
   "source": [
    "import pickle\n",
    "\n",
    "modelo = open('modelo_preco','rb')\n",
    "lm_new = pickle.load(modelo)\n",
    "modelo.close()\n",
    "\n",
    "Area = 131\n",
    "Garage = 2\n",
    "FirePlace = 0\n",
    "Baths = 4\n",
    "White_Marble = 0\n",
    "Black_Marble = 0\n",
    "Indian_Marble = 1\n",
    "Floors = 1\n",
    "City = 1\n",
    "Solar = 0\n",
    "Electric = 1\n",
    "Fiber = 0\n",
    "Glass_Doors = 1\n",
    "Swiming_Pool = 1\n",
    "Garden = 1\n",
    "\n",
    "entrada = [[Area,Garage,FirePlace,Baths,White_Marble,Black_Marble,Indian_Marble,Floors,City,Solar,Electric,Fiber,Glass_Doors,Swiming_Pool,Garden]]\n",
    "\n",
    "print(f'$ {lm_new.predict(entrada)[0].round(2)}')"
   ]
  },
  {
   "cell_type": "markdown",
   "metadata": {},
   "source": [
    "## Simulador interativo Preços de Casas"
   ]
  },
  {
   "cell_type": "code",
   "execution_count": 3,
   "metadata": {},
   "outputs": [],
   "source": [
    "# Importando bibliotecas\n",
    "from ipywidgets import widgets, HBox, VBox\n",
    "from IPython.display import display\n",
    "\n",
    "# Criando os controles do formulário\n",
    "Area = widgets.Text(description=\"Área\")\n",
    "Garage = widgets.Text(description=\"Garagem\")\n",
    "FirePlace = widgets.Text(description=\"Lareira\")\n",
    "Baths = widgets.Text(description=\"Banheiros\")\n",
    "White_Marble = widgets.Text(description=\"Mármore Branco?\")\n",
    "Black_Marble = widgets.Text(description=\"Mármore Preto?\")\n",
    "Indian_Marble = widgets.Text(description=\"Mármore Indiano?\")\n",
    "Floors = widgets.Text(description=\"Andares?\")\n",
    "City = widgets.Text(description=\"Cidade\")\n",
    "Solar = widgets.Text(description=\"Painel Solar?\")\n",
    "Electric = widgets.Text(description=\"Rede Elétrica?\")\n",
    "Fiber = widgets.Text(description=\"Fibra?\")\n",
    "Glass_Doors = widgets.Text(description=\"Portas de vidro?\")\n",
    "Swiming_Pool = widgets.Text(description=\"Piscina?\")\n",
    "Garden = widgets.Text(description=\"Jardim?\")\n",
    "\n",
    "botao = widgets.Button(description=\"Simular\")\n",
    "\n",
    "# Posicionando os controles\n",
    "left = VBox([Area, Garage, FirePlace, Baths, White_Marble, Black_Marble, Indian_Marble])\n",
    "right = VBox([Floors, City, Solar, Electric, Fiber, Glass_Doors, Swiming_Pool, Garden])\n",
    "inputs = HBox([left, right])\n",
    "\n",
    "# Função de simulação\n",
    "def simulador(sender):\n",
    "    entrada = [[\n",
    "        float(Area.value if Area.value else 0),\n",
    "        float(Garage.value if Garage.value else 0),\n",
    "        float(FirePlace.value if FirePlace.value else 0),\n",
    "        float(Baths.value if Baths.value else 0),\n",
    "        float(White_Marble.value if White_Marble.value else 0),\n",
    "        float(Black_Marble.value if Black_Marble.value else 0),\n",
    "        float(Indian_Marble.value if Indian_Marble.value else 0),\n",
    "        float(Floors.value if Floors.value else 0),\n",
    "        float(City.value if City.value else 0),\n",
    "        float(Solar.value if Solar.value else 0),\n",
    "        float(Electric.value if Electric.value else 0),\n",
    "        float(Fiber.value if Fiber.value else 0),\n",
    "        float(Glass_Doors.value if Glass_Doors.value else 0),\n",
    "        float(Swiming_Pool.value if Swiming_Pool.value else 0),\n",
    "        float(Garden.value if Garden.value else 0)\n",
    "    ]]\n",
    "\n",
    "    print('$ {0:.2f}'.format(lm_new.predict(entrada)[0]))\n",
    "\n",
    "# Atribuindo a função \"simulador\" ao evento click do botão\n",
    "botao.on_click(simulador)"
   ]
  },
  {
   "cell_type": "code",
   "execution_count": 4,
   "metadata": {},
   "outputs": [
    {
     "data": {
      "application/vnd.jupyter.widget-view+json": {
       "model_id": "dfef8c3995644032b9e63675a0084e69",
       "version_major": 2,
       "version_minor": 0
      },
      "text/plain": [
       "HBox(children=(VBox(children=(Text(value='', description='Área'), Text(value='', description='Garagem'), Text(…"
      ]
     },
     "metadata": {},
     "output_type": "display_data"
    },
    {
     "data": {
      "application/vnd.jupyter.widget-view+json": {
       "model_id": "5ec8dd71ae6d4694858415d2cdf3eda8",
       "version_major": 2,
       "version_minor": 0
      },
      "text/plain": [
       "Button(description='Simular', style=ButtonStyle())"
      ]
     },
     "metadata": {},
     "output_type": "display_data"
    },
    {
     "name": "stdout",
     "output_type": "stream",
     "text": [
      "$ 60025.00\n"
     ]
    }
   ],
   "source": [
    "display(inputs, botao)"
   ]
  },
  {
   "cell_type": "markdown",
   "metadata": {},
   "source": [
    " "
   ]
  }
 ],
 "metadata": {
  "kernelspec": {
   "display_name": "Python 3 (ipykernel)",
   "language": "python",
   "name": "python3"
  },
  "language_info": {
   "codemirror_mode": {
    "name": "ipython",
    "version": 3
   },
   "file_extension": ".py",
   "mimetype": "text/x-python",
   "name": "python",
   "nbconvert_exporter": "python",
   "pygments_lexer": "ipython3",
   "version": "3.11.4"
  }
 },
 "nbformat": 4,
 "nbformat_minor": 2
}
